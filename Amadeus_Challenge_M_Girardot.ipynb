{
 "cells": [
  {
   "cell_type": "markdown",
   "metadata": {},
   "source": [
    "#Amadeus datasets\n",
    "bookings.csv\n",
    "searches.csv\n",
    "\n",
    "##First exercise: count the number of lines in Python for each file\n",
    "\n"
   ]
  },
  {
   "cell_type": "code",
   "execution_count": 2,
   "metadata": {
    "collapsed": true
   },
   "outputs": [],
   "source": [
    "%matplotlib inline\n",
    "import matplotlib.pyplot as plt\n",
    "import pandas as pd\n",
    "import numpy as np\n",
    "from GeoBases import GeoBase"
   ]
  },
  {
   "cell_type": "code",
   "execution_count": 1,
   "metadata": {
    "collapsed": false
   },
   "outputs": [
    {
     "name": "stdout",
     "output_type": "stream",
     "text": [
      "First exercice: Count the number of lines in Python for each files.\n",
      "\n",
      "[bookings.csv]:  10000011  lines.\n",
      "\n",
      "[searches.csv]:  20390199  lines.\n"
     ]
    }
   ],
   "source": [
    "f = open('C:/Users/Michael/Desktop/Amadeus_dataset/bookings.csv')\n",
    "\n",
    "print \"First exercice: Count the number of lines in Python for each files.\"\n",
    "\n",
    "print \"\\n[bookings.csv]: \", len(f.readlines()), \" lines.\"\n",
    "\n",
    "f.close()\n",
    "f = open('C:/Users/Michael/Desktop/Amadeus_dataset/searches.csv')\n",
    "\n",
    "print \"\\n[searches.csv]: \", len(f.readlines()), \" lines.\"\n",
    "f.close()"
   ]
  },
  {
   "cell_type": "markdown",
   "metadata": {},
   "source": [
    "##Second exercise: top 10 arrival airports in the world in 2013 (using the bookings file)\n",
    "\n",
    ">Arrival airport is the column arr_port. It is the IATA code for the airport\n",
    "To get the total number of passengers for an airport, you can sum the column pax, grouping by arr_port. Note that there is negative pax. That corresponds to cancelations. So to get the total number of passengers that have actually booked, you should sum including the negatives (that will remove the canceled bookings).\n",
    "Print the top 10 arrival airports in the standard output, including the number of passengers.\n",
    "\n",
    "\n"
   ]
  },
  {
   "cell_type": "markdown",
   "metadata": {},
   "source": [
    "###1.Exploring the csv file\n"
   ]
  },
  {
   "cell_type": "code",
   "execution_count": 2,
   "metadata": {
    "collapsed": false
   },
   "outputs": [
    {
     "name": "stdout",
     "output_type": "stream",
     "text": [
      "act_date           ^source^pos_ctry^pos_iata^pos_oid  ^rloc          ^cre_date           ^duration^distance^dep_port^dep_city^dep_ctry^arr_port^arr_city^arr_ctry^lst_port^lst_city^lst_ctry^brd_port^brd_city^brd_ctry^off_port^off_city^off_ctry^mkt_port^mkt_city^mkt_ctry^intl^route          ^carrier^bkg_class^cab_class^brd_time           ^off_time           ^pax^year^month^oid      \n",
      "\n"
     ]
    }
   ],
   "source": [
    "f = open('C:/Users/Michael/Desktop/Amadeus_dataset/bookings.csv')\n",
    "h = f.readline()\n",
    "print h\n",
    "f.close()"
   ]
  },
  {
   "cell_type": "markdown",
   "metadata": {},
   "source": [
    "The separator of the csv file is '^'"
   ]
  },
  {
   "cell_type": "code",
   "execution_count": 4,
   "metadata": {
    "collapsed": false
   },
   "outputs": [
    {
     "name": "stdout",
     "output_type": "stream",
     "text": [
      "['act_date           ', 'source', 'pos_ctry', 'pos_iata', 'pos_oid  ', 'rloc          ', 'cre_date           ', 'duration', 'distance', 'dep_port', 'dep_city', 'dep_ctry', 'arr_port', 'arr_city', 'arr_ctry', 'lst_port', 'lst_city', 'lst_ctry', 'brd_port', 'brd_city', 'brd_ctry', 'off_port', 'off_city', 'off_ctry', 'mkt_port', 'mkt_city', 'mkt_ctry', 'intl', 'route          ', 'carrier', 'bkg_class', 'cab_class', 'brd_time           ', 'off_time           ', 'pax', 'year', 'month', 'oid      \\n'] \n",
      " number of columns:  38\n"
     ]
    }
   ],
   "source": [
    "header = str.split(h, '^')\n",
    "print header, \"\\n number of columns: \" , len(header)"
   ]
  },
  {
   "cell_type": "markdown",
   "metadata": {},
   "source": [
    "###2.import the csv file into a DataFrame"
   ]
  },
  {
   "cell_type": "code",
   "execution_count": 5,
   "metadata": {
    "collapsed": false
   },
   "outputs": [
    {
     "name": "stdout",
     "output_type": "stream",
     "text": [
      "Number of rows in data: 10000010\n",
      "\n",
      "Number of columns in data: 38\n"
     ]
    },
    {
     "name": "stderr",
     "output_type": "stream",
     "text": [
      "C:\\Users\\Michael\\Anaconda\\lib\\site-packages\\pandas\\io\\parsers.py:1159: DtypeWarning: Columns (7,8,27) have mixed types. Specify dtype option on import or set low_memory=False.\n",
      "  data = self._reader.read(nrows)\n"
     ]
    },
    {
     "data": {
      "text/plain": [
       "count    10000009.000000\n",
       "mean            0.490880\n",
       "std             2.199173\n",
       "min           -90.000000\n",
       "25%            -1.000000\n",
       "50%             1.000000\n",
       "75%             1.000000\n",
       "max            99.000000\n",
       "Name: pax, dtype: float64"
      ]
     },
     "execution_count": 5,
     "metadata": {},
     "output_type": "execute_result"
    }
   ],
   "source": [
    "data = pd.read_csv('C:/Users/Michael/Desktop/Amadeus_dataset/bookings.csv', delimiter='^', header=0)\n",
    "\n",
    "print \"Number of rows in data: %i\" % data.shape[0]\n",
    "print \"\\nNumber of columns in data: %i\" % data.shape[1]\n",
    "\n",
    "data.head()\n",
    "\n",
    "data.pax.describe()"
   ]
  },
  {
   "cell_type": "markdown",
   "metadata": {},
   "source": [
    "count of pax is 10000009 instead of 10000010; one value is missing !"
   ]
  },
  {
   "cell_type": "code",
   "execution_count": 6,
   "metadata": {
    "collapsed": false
   },
   "outputs": [
    {
     "data": {
      "text/html": [
       "<div style=\"max-height:1000px;max-width:1500px;overflow:auto;\">\n",
       "<table border=\"1\" class=\"dataframe\">\n",
       "  <thead>\n",
       "    <tr style=\"text-align: right;\">\n",
       "      <th></th>\n",
       "      <th>act_date           </th>\n",
       "      <th>source</th>\n",
       "      <th>pos_ctry</th>\n",
       "      <th>pos_iata</th>\n",
       "      <th>pos_oid  </th>\n",
       "      <th>rloc          </th>\n",
       "      <th>cre_date           </th>\n",
       "      <th>duration</th>\n",
       "      <th>distance</th>\n",
       "      <th>dep_port</th>\n",
       "      <th>...</th>\n",
       "      <th>route          </th>\n",
       "      <th>carrier</th>\n",
       "      <th>bkg_class</th>\n",
       "      <th>cab_class</th>\n",
       "      <th>brd_time           </th>\n",
       "      <th>off_time           </th>\n",
       "      <th>pax</th>\n",
       "      <th>year</th>\n",
       "      <th>month</th>\n",
       "      <th>oid      </th>\n",
       "    </tr>\n",
       "  </thead>\n",
       "  <tbody>\n",
       "    <tr>\n",
       "      <th>5000007</th>\n",
       "      <td> 2013-03-25 00:00:00</td>\n",
       "      <td> 1V    JP      </td>\n",
       "      <td> NaN</td>\n",
       "      <td> a37584d1485cb35991e4ff1a2ba92262</td>\n",
       "      <td> 2013-03-25 00:00:00</td>\n",
       "      <td> 8371</td>\n",
       "      <td> 60</td>\n",
       "      <td> NRT     </td>\n",
       "      <td> TYO     </td>\n",
       "      <td> JP      </td>\n",
       "      <td>...</td>\n",
       "      <td> 2013-04-14 11:05:00</td>\n",
       "      <td> 2013-04-14 17:10:56</td>\n",
       "      <td> 2</td>\n",
       "      <td> 2013</td>\n",
       "      <td> 3</td>\n",
       "      <td> NULL     </td>\n",
       "      <td>NaN</td>\n",
       "      <td>NaN</td>\n",
       "      <td>NaN</td>\n",
       "      <td> NaN</td>\n",
       "    </tr>\n",
       "  </tbody>\n",
       "</table>\n",
       "<p>1 rows × 38 columns</p>\n",
       "</div>"
      ],
      "text/plain": [
       "         act_date                     source pos_ctry  \\\n",
       "5000007  2013-03-25 00:00:00  1V    JP            NaN   \n",
       "\n",
       "                                 pos_iata            pos_oid   rloc            \\\n",
       "5000007  a37584d1485cb35991e4ff1a2ba92262  2013-03-25 00:00:00           8371   \n",
       "\n",
       "        cre_date             duration  distance  dep_port    ...     \\\n",
       "5000007                  60  NRT       TYO       JP          ...      \n",
       "\n",
       "             route                        carrier bkg_class cab_class  \\\n",
       "5000007  2013-04-14 11:05:00  2013-04-14 17:10:56         2      2013   \n",
       "\n",
       "        brd_time            off_time            pax year month oid        \n",
       "5000007                   3           NULL      NaN  NaN   NaN       NaN  \n",
       "\n",
       "[1 rows x 38 columns]"
      ]
     },
     "execution_count": 6,
     "metadata": {},
     "output_type": "execute_result"
    }
   ],
   "source": [
    "data[data.pax.isnull()]"
   ]
  },
  {
   "cell_type": "markdown",
   "metadata": {},
   "source": [
    "the row 5000007 seems problematic"
   ]
  },
  {
   "cell_type": "markdown",
   "metadata": {},
   "source": [
    "###3.Fixing the malformed row"
   ]
  },
  {
   "cell_type": "code",
   "execution_count": 7,
   "metadata": {
    "collapsed": false
   },
   "outputs": [
    {
     "data": {
      "text/html": [
       "<div style=\"max-height:1000px;max-width:1500px;overflow:auto;\">\n",
       "<table border=\"1\" class=\"dataframe\">\n",
       "  <thead>\n",
       "    <tr style=\"text-align: right;\">\n",
       "      <th></th>\n",
       "      <th>act_date           </th>\n",
       "      <th>source</th>\n",
       "      <th>pos_ctry</th>\n",
       "      <th>pos_iata</th>\n",
       "      <th>pos_oid  </th>\n",
       "      <th>rloc          </th>\n",
       "      <th>cre_date           </th>\n",
       "      <th>duration</th>\n",
       "      <th>distance</th>\n",
       "      <th>dep_port</th>\n",
       "      <th>...</th>\n",
       "      <th>route          </th>\n",
       "      <th>carrier</th>\n",
       "      <th>bkg_class</th>\n",
       "      <th>cab_class</th>\n",
       "      <th>brd_time           </th>\n",
       "      <th>off_time           </th>\n",
       "      <th>pax</th>\n",
       "      <th>year</th>\n",
       "      <th>month</th>\n",
       "      <th>oid      </th>\n",
       "    </tr>\n",
       "  </thead>\n",
       "  <tbody>\n",
       "    <tr>\n",
       "      <th>5000006</th>\n",
       "      <td> 2013-03-20 00:00:00</td>\n",
       "      <td>         1V    </td>\n",
       "      <td> US      </td>\n",
       "      <td> 0283592e45e392871f7e14b1e22a9aaf</td>\n",
       "      <td> 2d0f8e7e1bb792625d2f34f221bc38f1</td>\n",
       "      <td> d54708298686de200f8270e7c637af5e</td>\n",
       "      <td> 2013-03-20 00:00:00</td>\n",
       "      <td>     5923</td>\n",
       "      <td>        0</td>\n",
       "      <td> DEN     </td>\n",
       "      <td>...</td>\n",
       "      <td>     LGADEN         </td>\n",
       "      <td>                  FK</td>\n",
       "      <td> K        </td>\n",
       "      <td> Y        </td>\n",
       "      <td> 2013-04-11 11:15:00</td>\n",
       "      <td> 2013-04-11 13:06:24</td>\n",
       "      <td>  1</td>\n",
       "      <td> 2013</td>\n",
       "      <td>  3</td>\n",
       "      <td> NULL     </td>\n",
       "    </tr>\n",
       "    <tr>\n",
       "      <th>5000007</th>\n",
       "      <td> 2013-03-25 00:00:00</td>\n",
       "      <td> 1V    JP      </td>\n",
       "      <td>      NaN</td>\n",
       "      <td> a37584d1485cb35991e4ff1a2ba92262</td>\n",
       "      <td>              2013-03-25 00:00:00</td>\n",
       "      <td>                             8371</td>\n",
       "      <td>                  60</td>\n",
       "      <td> NRT     </td>\n",
       "      <td> TYO     </td>\n",
       "      <td> JP      </td>\n",
       "      <td>...</td>\n",
       "      <td> 2013-04-14 11:05:00</td>\n",
       "      <td> 2013-04-14 17:10:56</td>\n",
       "      <td>         2</td>\n",
       "      <td>      2013</td>\n",
       "      <td>                   3</td>\n",
       "      <td>           NULL     </td>\n",
       "      <td>NaN</td>\n",
       "      <td>  NaN</td>\n",
       "      <td>NaN</td>\n",
       "      <td>       NaN</td>\n",
       "    </tr>\n",
       "  </tbody>\n",
       "</table>\n",
       "<p>2 rows × 38 columns</p>\n",
       "</div>"
      ],
      "text/plain": [
       "         act_date                     source  pos_ctry  \\\n",
       "5000006  2013-03-20 00:00:00          1V      US         \n",
       "5000007  2013-03-25 00:00:00  1V    JP             NaN   \n",
       "\n",
       "                                 pos_iata                         pos_oid    \\\n",
       "5000006  0283592e45e392871f7e14b1e22a9aaf  2d0f8e7e1bb792625d2f34f221bc38f1   \n",
       "5000007  a37584d1485cb35991e4ff1a2ba92262               2013-03-25 00:00:00   \n",
       "\n",
       "                           rloc            cre_date             duration  \\\n",
       "5000006  d54708298686de200f8270e7c637af5e  2013-03-20 00:00:00      5923   \n",
       "5000007                              8371                   60  NRT        \n",
       "\n",
       "         distance  dep_port    ...          route            \\\n",
       "5000006         0  DEN         ...          LGADEN            \n",
       "5000007  TYO       JP          ...      2013-04-14 11:05:00   \n",
       "\n",
       "                     carrier  bkg_class  cab_class  brd_time             \\\n",
       "5000006                   FK  K          Y          2013-04-11 11:15:00   \n",
       "5000007  2013-04-14 17:10:56          2       2013                    3   \n",
       "\n",
       "         off_time            pax  year month  oid        \n",
       "5000006  2013-04-11 13:06:24   1  2013     3  NULL       \n",
       "5000007            NULL      NaN   NaN   NaN        NaN  \n",
       "\n",
       "[2 rows x 38 columns]"
      ]
     },
     "execution_count": 7,
     "metadata": {},
     "output_type": "execute_result"
    }
   ],
   "source": [
    "data[5000006:5000008]"
   ]
  },
  {
   "cell_type": "markdown",
   "metadata": {},
   "source": [
    "The source contains both the source and the pos_ctry data.And rloc, pos_iod, bkg_class and cab_class seems to be missing.\n",
    "I have collected the malformed row using:\n",
    "`head -n 5000009 bookings.csv | tail`\n",
    "Then edited the missing separator in gedit. The resulting row and header is saved in `malformedRow.csv`"
   ]
  },
  {
   "cell_type": "code",
   "execution_count": 8,
   "metadata": {
    "collapsed": true
   },
   "outputs": [],
   "source": [
    "malformedRow = pd.read_csv('C:/Users/Michael/Desktop/Amadeus_dataset/malformedRow.csv', delimiter='^', header=0)\n",
    "data.drop(data.index[[5000007]], inplace=True)\n",
    "data = data.append(malformedRow, ignore_index=True)\n"
   ]
  },
  {
   "cell_type": "markdown",
   "metadata": {},
   "source": [
    "Then the pax column seems complete"
   ]
  },
  {
   "cell_type": "code",
   "execution_count": 9,
   "metadata": {
    "collapsed": false
   },
   "outputs": [
    {
     "data": {
      "text/plain": [
       "count    10000010.000000\n",
       "mean            0.490881\n",
       "std             2.199173\n",
       "min           -90.000000\n",
       "25%            -1.000000\n",
       "50%             1.000000\n",
       "75%             1.000000\n",
       "max            99.000000\n",
       "Name: pax, dtype: float64"
      ]
     },
     "execution_count": 9,
     "metadata": {},
     "output_type": "execute_result"
    }
   ],
   "source": [
    "data.pax.describe()"
   ]
  },
  {
   "cell_type": "markdown",
   "metadata": {},
   "source": [
    "###4.Computing the number of passengers per arrival airport"
   ]
  },
  {
   "cell_type": "code",
   "execution_count": 12,
   "metadata": {
    "collapsed": false
   },
   "outputs": [
    {
     "name": "stdout",
     "output_type": "stream",
     "text": [
      "arr_port\n",
      "LHR         88809\n",
      "MCO         70930\n",
      "LAX         70530\n",
      "LAS         69630\n",
      "JFK         66270\n",
      "CDG         64490\n",
      "BKK         59460\n",
      "MIA         58150\n",
      "SFO         58000\n",
      "DXB         55590\n",
      "Name: pax, dtype: float64\n"
     ]
    }
   ],
   "source": [
    "sum_pax_by_arr_port= data.groupby('arr_port').pax.sum()\n",
    "\n",
    "sum_pax_by_arr_port_ordered = sum_pax_by_arr_port.order(ascending=False)\n",
    "top10=sum_pax_by_arr_port_ordered.head(n=10)\n",
    "print(top10)"
   ]
  },
  {
   "cell_type": "markdown",
   "metadata": {},
   "source": [
    "###Bonus point: Get the name of the city or airport corresponding to that airport (programatically, we suggest to have a look at GeoBases in Github)"
   ]
  },
  {
   "cell_type": "markdown",
   "metadata": {},
   "source": [
    "First, I convert the top10 list into a dataframe to store the names of the airports"
   ]
  },
  {
   "cell_type": "code",
   "execution_count": 13,
   "metadata": {
    "collapsed": false,
    "scrolled": false
   },
   "outputs": [
    {
     "name": "stdout",
     "output_type": "stream",
     "text": [
      "            pax  arr_port\n",
      "arr_port                 \n",
      "LHR       88809  LHR     \n",
      "MCO       70930  MCO     \n",
      "LAX       70530  LAX     \n",
      "LAS       69630  LAS     \n",
      "JFK       66270  JFK     \n",
      "CDG       64490  CDG     \n",
      "BKK       59460  BKK     \n",
      "MIA       58150  MIA     \n",
      "SFO       58000  SFO     \n",
      "DXB       55590  DXB     \n"
     ]
    }
   ],
   "source": [
    "df = pd.DataFrame(top10)\n",
    "df['arr_port']=df.index\n",
    "print df"
   ]
  },
  {
   "cell_type": "markdown",
   "metadata": {},
   "source": [
    "Then get the names from GeoBases:"
   ]
  },
  {
   "cell_type": "code",
   "execution_count": 14,
   "metadata": {
    "collapsed": false
   },
   "outputs": [
    {
     "name": "stdout",
     "output_type": "stream",
     "text": [
      "Import successful from C:\\Users\\Michael\\AppData\\Roaming\\Python\\Python27\\site-packages\\geobases-5.0.16-py2.7.egg\\GeoBases\\DataSources\\Airports/GeoNames/airports_geonames_only_clean.csv\n",
      "Available fields for things: ['__key__', '__dup__', '__par__', '__lno__', 'iata_code', 'name', 'city_code', 'country_code', 'country_name', 'lat', 'lng', '__gar__']\n",
      "(Join) loaded external base \"countries\" [with ('code',)] for join on ('country_code',)\n",
      "Built index for fields ('code',)\n",
      "(Join) loaded external base \"ori_por\" [with ('iata_code',)] for join on ('city_code',)\n",
      "/!\\ Index on ('iata_code',) already built, exiting...\n",
      "Top 10 arrival airports :\n",
      "            pax  arr_port                         airport_names\n",
      "arr_port                                                       \n",
      "LHR       88809  LHR                    London Heathrow Airport\n",
      "MCO       70930  MCO              Orlando International Airport\n",
      "LAX       70530  LAX          Los Angeles International Airport\n",
      "LAS       69630  LAS             McCarran International Airport\n",
      "JFK       66270  JFK       John F Kennedy International Airport\n",
      "CDG       64490  CDG                  Paris - Charles-de-Gaulle\n",
      "BKK       59460  BKK                               Suvarnabhumi\n",
      "MIA       58150  MIA                Miami International Airport\n",
      "SFO       58000  SFO        San Francisco International Airport\n",
      "DXB       55590  DXB                Dubai International Airport\n"
     ]
    }
   ],
   "source": [
    "geo_o = GeoBase(data='airports')\n",
    "\n",
    "airport_names = [geo_o.get(row.strip(), 'name') for row in df.arr_port]\n",
    "df['airport_names']=airport_names\n",
    "\n",
    "print \"Top 10 arrival airports :\\n\", df\n"
   ]
  },
  {
   "cell_type": "markdown",
   "metadata": {},
   "source": [
    "##Third exercise: plot the monthly number of searches for flights arriving at Málaga, Madrid or Barcelona\n",
    "\n",
    ">For the arriving airport, you can use the Destination column in the searches file. Plot a curve for Málaga, another one for Madrid, and another one for Barcelona, in the same figure.\n",
    "\n",
    "###1.Get the IATA code from the name of the airports"
   ]
  },
  {
   "cell_type": "code",
   "execution_count": 16,
   "metadata": {
    "collapsed": false
   },
   "outputs": [
    {
     "data": {
      "text/plain": [
       "(0.9, 'AGP')"
      ]
     },
     "execution_count": 16,
     "metadata": {},
     "output_type": "execute_result"
    }
   ],
   "source": [
    "geo_o.fuzzyFind('Malaga','name')[0]"
   ]
  },
  {
   "cell_type": "code",
   "execution_count": 17,
   "metadata": {
    "collapsed": false
   },
   "outputs": [
    {
     "data": {
      "text/plain": [
       "(0.9, 'MAD')"
      ]
     },
     "execution_count": 17,
     "metadata": {},
     "output_type": "execute_result"
    }
   ],
   "source": [
    "geo_o.fuzzyFind('Madrid','name')[0]"
   ]
  },
  {
   "cell_type": "code",
   "execution_count": 18,
   "metadata": {
    "collapsed": false
   },
   "outputs": [
    {
     "data": {
      "text/plain": [
       "(0.9, 'BCN')"
      ]
     },
     "execution_count": 18,
     "metadata": {},
     "output_type": "execute_result"
    }
   ],
   "source": [
    "geo_o.fuzzyFind('Barcelona','name')[0]"
   ]
  },
  {
   "cell_type": "code",
   "execution_count": 23,
   "metadata": {
    "collapsed": true
   },
   "outputs": [],
   "source": [
    "Malaga='AGP'\n",
    "Madrid='MAD'\n",
    "Barcelona='BCN'"
   ]
  },
  {
   "cell_type": "markdown",
   "metadata": {},
   "source": [
    "###2.Create a month column in the searches dataframe"
   ]
  },
  {
   "cell_type": "code",
   "execution_count": 19,
   "metadata": {
    "collapsed": false
   },
   "outputs": [
    {
     "name": "stderr",
     "output_type": "stream",
     "text": [
      "C:\\Users\\Michael\\Anaconda\\lib\\site-packages\\pandas\\io\\parsers.py:1159: DtypeWarning: Columns (40,41,42,44) have mixed types. Specify dtype option on import or set low_memory=False.\n",
      "  data = self._reader.read(nrows)\n"
     ]
    },
    {
     "data": {
      "text/html": [
       "<div style=\"max-height:1000px;max-width:1500px;overflow:auto;\">\n",
       "<table border=\"1\" class=\"dataframe\">\n",
       "  <thead>\n",
       "    <tr style=\"text-align: right;\">\n",
       "      <th></th>\n",
       "      <th>Date</th>\n",
       "      <th>Time</th>\n",
       "      <th>TxnCode</th>\n",
       "      <th>OfficeID</th>\n",
       "      <th>Country</th>\n",
       "      <th>Origin</th>\n",
       "      <th>Destination</th>\n",
       "      <th>RoundTrip</th>\n",
       "      <th>NbSegments</th>\n",
       "      <th>Seg1Departure</th>\n",
       "      <th>...</th>\n",
       "      <th>Seg6Arrival</th>\n",
       "      <th>Seg6Date</th>\n",
       "      <th>Seg6Carrier</th>\n",
       "      <th>Seg6BookingCode</th>\n",
       "      <th>From</th>\n",
       "      <th>IsPublishedForNeg</th>\n",
       "      <th>IsFromInternet</th>\n",
       "      <th>IsFromVista</th>\n",
       "      <th>TerminalID</th>\n",
       "      <th>InternetOffice</th>\n",
       "    </tr>\n",
       "  </thead>\n",
       "  <tbody>\n",
       "    <tr>\n",
       "      <th>0</th>\n",
       "      <td> 2013-01-01</td>\n",
       "      <td> 20:25:57</td>\n",
       "      <td> MPT</td>\n",
       "      <td> 624d8c3ac0b3a7ca03e3c167e0f48327</td>\n",
       "      <td> DE</td>\n",
       "      <td> TXL</td>\n",
       "      <td> AUH</td>\n",
       "      <td> 1</td>\n",
       "      <td> 2</td>\n",
       "      <td> TXL</td>\n",
       "      <td>...</td>\n",
       "      <td> NaN</td>\n",
       "      <td> NaN</td>\n",
       "      <td> NaN</td>\n",
       "      <td> NaN</td>\n",
       "      <td> 1ASIWS</td>\n",
       "      <td> 0</td>\n",
       "      <td> 0</td>\n",
       "      <td> 0</td>\n",
       "      <td> d41d8cd98f00b204e9800998ecf8427e</td>\n",
       "      <td> FRA</td>\n",
       "    </tr>\n",
       "    <tr>\n",
       "      <th>1</th>\n",
       "      <td> 2013-01-01</td>\n",
       "      <td> 10:15:33</td>\n",
       "      <td> MPT</td>\n",
       "      <td> b0af35b31588dc4ab06d5cf2986e8e02</td>\n",
       "      <td> MD</td>\n",
       "      <td> ATH</td>\n",
       "      <td> MIL</td>\n",
       "      <td> 0</td>\n",
       "      <td> 1</td>\n",
       "      <td> ATH</td>\n",
       "      <td>...</td>\n",
       "      <td> NaN</td>\n",
       "      <td> NaN</td>\n",
       "      <td> NaN</td>\n",
       "      <td> NaN</td>\n",
       "      <td> 1ASIWS</td>\n",
       "      <td> 0</td>\n",
       "      <td> 0</td>\n",
       "      <td> 0</td>\n",
       "      <td> d41d8cd98f00b204e9800998ecf8427e</td>\n",
       "      <td> KIV</td>\n",
       "    </tr>\n",
       "    <tr>\n",
       "      <th>2</th>\n",
       "      <td> 2013-01-01</td>\n",
       "      <td> 18:04:49</td>\n",
       "      <td> MPT</td>\n",
       "      <td> 3561a60621de06ab1badc8ca55699ef3</td>\n",
       "      <td> US</td>\n",
       "      <td> ICT</td>\n",
       "      <td> SFO</td>\n",
       "      <td> 1</td>\n",
       "      <td> 2</td>\n",
       "      <td> ICT</td>\n",
       "      <td>...</td>\n",
       "      <td> NaN</td>\n",
       "      <td> NaN</td>\n",
       "      <td> NaN</td>\n",
       "      <td> NaN</td>\n",
       "      <td> 1ASIWS</td>\n",
       "      <td> 0</td>\n",
       "      <td> 0</td>\n",
       "      <td> 0</td>\n",
       "      <td> d41d8cd98f00b204e9800998ecf8427e</td>\n",
       "      <td> NYC</td>\n",
       "    </tr>\n",
       "    <tr>\n",
       "      <th>3</th>\n",
       "      <td> 2013-01-01</td>\n",
       "      <td> 17:42:40</td>\n",
       "      <td> FXP</td>\n",
       "      <td> 1864e5e8013d9414150e91d26b6a558b</td>\n",
       "      <td> SE</td>\n",
       "      <td> RNB</td>\n",
       "      <td> ARN</td>\n",
       "      <td> 0</td>\n",
       "      <td> 1</td>\n",
       "      <td> RNB</td>\n",
       "      <td>...</td>\n",
       "      <td> NaN</td>\n",
       "      <td> NaN</td>\n",
       "      <td> NaN</td>\n",
       "      <td> NaN</td>\n",
       "      <td>   1ASI</td>\n",
       "      <td> 0</td>\n",
       "      <td> 0</td>\n",
       "      <td> 0</td>\n",
       "      <td> d41d8cd98f00b204e9800998ecf8427e</td>\n",
       "      <td> STO</td>\n",
       "    </tr>\n",
       "    <tr>\n",
       "      <th>4</th>\n",
       "      <td> 2013-01-01</td>\n",
       "      <td> 17:48:29</td>\n",
       "      <td> MPT</td>\n",
       "      <td> 1ec336348f44207d2e0027dc3a68c118</td>\n",
       "      <td> NO</td>\n",
       "      <td> OSL</td>\n",
       "      <td> MAD</td>\n",
       "      <td> 1</td>\n",
       "      <td> 2</td>\n",
       "      <td> OSL</td>\n",
       "      <td>...</td>\n",
       "      <td> NaN</td>\n",
       "      <td> NaN</td>\n",
       "      <td> NaN</td>\n",
       "      <td> NaN</td>\n",
       "      <td> 1ASIWS</td>\n",
       "      <td> 0</td>\n",
       "      <td> 0</td>\n",
       "      <td> 0</td>\n",
       "      <td> d41d8cd98f00b204e9800998ecf8427e</td>\n",
       "      <td> OSL</td>\n",
       "    </tr>\n",
       "  </tbody>\n",
       "</table>\n",
       "<p>5 rows × 45 columns</p>\n",
       "</div>"
      ],
      "text/plain": [
       "         Date      Time TxnCode                          OfficeID Country  \\\n",
       "0  2013-01-01  20:25:57     MPT  624d8c3ac0b3a7ca03e3c167e0f48327      DE   \n",
       "1  2013-01-01  10:15:33     MPT  b0af35b31588dc4ab06d5cf2986e8e02      MD   \n",
       "2  2013-01-01  18:04:49     MPT  3561a60621de06ab1badc8ca55699ef3      US   \n",
       "3  2013-01-01  17:42:40     FXP  1864e5e8013d9414150e91d26b6a558b      SE   \n",
       "4  2013-01-01  17:48:29     MPT  1ec336348f44207d2e0027dc3a68c118      NO   \n",
       "\n",
       "  Origin Destination  RoundTrip  NbSegments Seg1Departure      ...        \\\n",
       "0    TXL         AUH          1           2           TXL      ...         \n",
       "1    ATH         MIL          0           1           ATH      ...         \n",
       "2    ICT         SFO          1           2           ICT      ...         \n",
       "3    RNB         ARN          0           1           RNB      ...         \n",
       "4    OSL         MAD          1           2           OSL      ...         \n",
       "\n",
       "  Seg6Arrival Seg6Date Seg6Carrier Seg6BookingCode    From IsPublishedForNeg  \\\n",
       "0         NaN      NaN         NaN             NaN  1ASIWS                 0   \n",
       "1         NaN      NaN         NaN             NaN  1ASIWS                 0   \n",
       "2         NaN      NaN         NaN             NaN  1ASIWS                 0   \n",
       "3         NaN      NaN         NaN             NaN    1ASI                 0   \n",
       "4         NaN      NaN         NaN             NaN  1ASIWS                 0   \n",
       "\n",
       "  IsFromInternet IsFromVista                        TerminalID InternetOffice  \n",
       "0              0           0  d41d8cd98f00b204e9800998ecf8427e            FRA  \n",
       "1              0           0  d41d8cd98f00b204e9800998ecf8427e            KIV  \n",
       "2              0           0  d41d8cd98f00b204e9800998ecf8427e            NYC  \n",
       "3              0           0  d41d8cd98f00b204e9800998ecf8427e            STO  \n",
       "4              0           0  d41d8cd98f00b204e9800998ecf8427e            OSL  \n",
       "\n",
       "[5 rows x 45 columns]"
      ]
     },
     "execution_count": 19,
     "metadata": {},
     "output_type": "execute_result"
    }
   ],
   "source": [
    "searches = pd.read_csv('C:/Users/Michael/Desktop/Amadeus_dataset/searches.csv', delimiter='^', header=0)\n",
    "searches.head()"
   ]
  },
  {
   "cell_type": "markdown",
   "metadata": {},
   "source": [
    "We can extract the month of the search from the Date column:"
   ]
  },
  {
   "cell_type": "code",
   "execution_count": 20,
   "metadata": {
    "collapsed": true
   },
   "outputs": [],
   "source": [
    "date_str=[str(row) for row in searches.Date]\n",
    "months = [int(dt_str.split('-')[1]) for dt_str in date_str]\n",
    "searches['Month']=months"
   ]
  },
  {
   "cell_type": "code",
   "execution_count": 21,
   "metadata": {
    "collapsed": false
   },
   "outputs": [
    {
     "data": {
      "text/html": [
       "<div style=\"max-height:1000px;max-width:1500px;overflow:auto;\">\n",
       "<table border=\"1\" class=\"dataframe\">\n",
       "  <thead>\n",
       "    <tr style=\"text-align: right;\">\n",
       "      <th></th>\n",
       "      <th>Date</th>\n",
       "      <th>Time</th>\n",
       "      <th>TxnCode</th>\n",
       "      <th>OfficeID</th>\n",
       "      <th>Country</th>\n",
       "      <th>Origin</th>\n",
       "      <th>Destination</th>\n",
       "      <th>RoundTrip</th>\n",
       "      <th>NbSegments</th>\n",
       "      <th>Seg1Departure</th>\n",
       "      <th>...</th>\n",
       "      <th>Seg6Date</th>\n",
       "      <th>Seg6Carrier</th>\n",
       "      <th>Seg6BookingCode</th>\n",
       "      <th>From</th>\n",
       "      <th>IsPublishedForNeg</th>\n",
       "      <th>IsFromInternet</th>\n",
       "      <th>IsFromVista</th>\n",
       "      <th>TerminalID</th>\n",
       "      <th>InternetOffice</th>\n",
       "      <th>Month</th>\n",
       "    </tr>\n",
       "  </thead>\n",
       "  <tbody>\n",
       "    <tr>\n",
       "      <th>0</th>\n",
       "      <td> 2013-01-01</td>\n",
       "      <td> 20:25:57</td>\n",
       "      <td> MPT</td>\n",
       "      <td> 624d8c3ac0b3a7ca03e3c167e0f48327</td>\n",
       "      <td> DE</td>\n",
       "      <td> TXL</td>\n",
       "      <td> AUH</td>\n",
       "      <td> 1</td>\n",
       "      <td> 2</td>\n",
       "      <td> TXL</td>\n",
       "      <td>...</td>\n",
       "      <td> NaN</td>\n",
       "      <td> NaN</td>\n",
       "      <td> NaN</td>\n",
       "      <td> 1ASIWS</td>\n",
       "      <td> 0</td>\n",
       "      <td> 0</td>\n",
       "      <td> 0</td>\n",
       "      <td> d41d8cd98f00b204e9800998ecf8427e</td>\n",
       "      <td> FRA</td>\n",
       "      <td> 1</td>\n",
       "    </tr>\n",
       "    <tr>\n",
       "      <th>1</th>\n",
       "      <td> 2013-01-01</td>\n",
       "      <td> 10:15:33</td>\n",
       "      <td> MPT</td>\n",
       "      <td> b0af35b31588dc4ab06d5cf2986e8e02</td>\n",
       "      <td> MD</td>\n",
       "      <td> ATH</td>\n",
       "      <td> MIL</td>\n",
       "      <td> 0</td>\n",
       "      <td> 1</td>\n",
       "      <td> ATH</td>\n",
       "      <td>...</td>\n",
       "      <td> NaN</td>\n",
       "      <td> NaN</td>\n",
       "      <td> NaN</td>\n",
       "      <td> 1ASIWS</td>\n",
       "      <td> 0</td>\n",
       "      <td> 0</td>\n",
       "      <td> 0</td>\n",
       "      <td> d41d8cd98f00b204e9800998ecf8427e</td>\n",
       "      <td> KIV</td>\n",
       "      <td> 1</td>\n",
       "    </tr>\n",
       "    <tr>\n",
       "      <th>2</th>\n",
       "      <td> 2013-01-01</td>\n",
       "      <td> 18:04:49</td>\n",
       "      <td> MPT</td>\n",
       "      <td> 3561a60621de06ab1badc8ca55699ef3</td>\n",
       "      <td> US</td>\n",
       "      <td> ICT</td>\n",
       "      <td> SFO</td>\n",
       "      <td> 1</td>\n",
       "      <td> 2</td>\n",
       "      <td> ICT</td>\n",
       "      <td>...</td>\n",
       "      <td> NaN</td>\n",
       "      <td> NaN</td>\n",
       "      <td> NaN</td>\n",
       "      <td> 1ASIWS</td>\n",
       "      <td> 0</td>\n",
       "      <td> 0</td>\n",
       "      <td> 0</td>\n",
       "      <td> d41d8cd98f00b204e9800998ecf8427e</td>\n",
       "      <td> NYC</td>\n",
       "      <td> 1</td>\n",
       "    </tr>\n",
       "    <tr>\n",
       "      <th>3</th>\n",
       "      <td> 2013-01-01</td>\n",
       "      <td> 17:42:40</td>\n",
       "      <td> FXP</td>\n",
       "      <td> 1864e5e8013d9414150e91d26b6a558b</td>\n",
       "      <td> SE</td>\n",
       "      <td> RNB</td>\n",
       "      <td> ARN</td>\n",
       "      <td> 0</td>\n",
       "      <td> 1</td>\n",
       "      <td> RNB</td>\n",
       "      <td>...</td>\n",
       "      <td> NaN</td>\n",
       "      <td> NaN</td>\n",
       "      <td> NaN</td>\n",
       "      <td>   1ASI</td>\n",
       "      <td> 0</td>\n",
       "      <td> 0</td>\n",
       "      <td> 0</td>\n",
       "      <td> d41d8cd98f00b204e9800998ecf8427e</td>\n",
       "      <td> STO</td>\n",
       "      <td> 1</td>\n",
       "    </tr>\n",
       "    <tr>\n",
       "      <th>4</th>\n",
       "      <td> 2013-01-01</td>\n",
       "      <td> 17:48:29</td>\n",
       "      <td> MPT</td>\n",
       "      <td> 1ec336348f44207d2e0027dc3a68c118</td>\n",
       "      <td> NO</td>\n",
       "      <td> OSL</td>\n",
       "      <td> MAD</td>\n",
       "      <td> 1</td>\n",
       "      <td> 2</td>\n",
       "      <td> OSL</td>\n",
       "      <td>...</td>\n",
       "      <td> NaN</td>\n",
       "      <td> NaN</td>\n",
       "      <td> NaN</td>\n",
       "      <td> 1ASIWS</td>\n",
       "      <td> 0</td>\n",
       "      <td> 0</td>\n",
       "      <td> 0</td>\n",
       "      <td> d41d8cd98f00b204e9800998ecf8427e</td>\n",
       "      <td> OSL</td>\n",
       "      <td> 1</td>\n",
       "    </tr>\n",
       "  </tbody>\n",
       "</table>\n",
       "<p>5 rows × 46 columns</p>\n",
       "</div>"
      ],
      "text/plain": [
       "         Date      Time TxnCode                          OfficeID Country  \\\n",
       "0  2013-01-01  20:25:57     MPT  624d8c3ac0b3a7ca03e3c167e0f48327      DE   \n",
       "1  2013-01-01  10:15:33     MPT  b0af35b31588dc4ab06d5cf2986e8e02      MD   \n",
       "2  2013-01-01  18:04:49     MPT  3561a60621de06ab1badc8ca55699ef3      US   \n",
       "3  2013-01-01  17:42:40     FXP  1864e5e8013d9414150e91d26b6a558b      SE   \n",
       "4  2013-01-01  17:48:29     MPT  1ec336348f44207d2e0027dc3a68c118      NO   \n",
       "\n",
       "  Origin Destination  RoundTrip  NbSegments Seg1Departure  ...  Seg6Date  \\\n",
       "0    TXL         AUH          1           2           TXL  ...       NaN   \n",
       "1    ATH         MIL          0           1           ATH  ...       NaN   \n",
       "2    ICT         SFO          1           2           ICT  ...       NaN   \n",
       "3    RNB         ARN          0           1           RNB  ...       NaN   \n",
       "4    OSL         MAD          1           2           OSL  ...       NaN   \n",
       "\n",
       "  Seg6Carrier Seg6BookingCode    From IsPublishedForNeg IsFromInternet  \\\n",
       "0         NaN             NaN  1ASIWS                 0              0   \n",
       "1         NaN             NaN  1ASIWS                 0              0   \n",
       "2         NaN             NaN  1ASIWS                 0              0   \n",
       "3         NaN             NaN    1ASI                 0              0   \n",
       "4         NaN             NaN  1ASIWS                 0              0   \n",
       "\n",
       "  IsFromVista                        TerminalID InternetOffice Month  \n",
       "0           0  d41d8cd98f00b204e9800998ecf8427e            FRA     1  \n",
       "1           0  d41d8cd98f00b204e9800998ecf8427e            KIV     1  \n",
       "2           0  d41d8cd98f00b204e9800998ecf8427e            NYC     1  \n",
       "3           0  d41d8cd98f00b204e9800998ecf8427e            STO     1  \n",
       "4           0  d41d8cd98f00b204e9800998ecf8427e            OSL     1  \n",
       "\n",
       "[5 rows x 46 columns]"
      ]
     },
     "execution_count": 21,
     "metadata": {},
     "output_type": "execute_result"
    }
   ],
   "source": [
    "searches.head()"
   ]
  },
  {
   "cell_type": "markdown",
   "metadata": {},
   "source": [
    "###3.Destination searches grouped by month"
   ]
  },
  {
   "cell_type": "code",
   "execution_count": 24,
   "metadata": {
    "collapsed": false
   },
   "outputs": [],
   "source": [
    "tbl_Malaga=searches[searches['Destination']==Malaga].groupby('Month').count().iloc[:,0]\n",
    "tbl_Madrid=searches[searches['Destination']==Madrid].groupby('Month').count().iloc[:,0]\n",
    "tbl_Barcelona=searches[searches['Destination']==Barcelona].groupby('Month').count().iloc[:,0]\n"
   ]
  },
  {
   "cell_type": "code",
   "execution_count": 26,
   "metadata": {
    "collapsed": false
   },
   "outputs": [
    {
     "data": {
      "text/plain": [
       "Month\n",
       "1         9633\n",
       "2         8379\n",
       "3        10659\n",
       "4         8265\n",
       "5        10830\n",
       "6         7923\n",
       "7         8892\n",
       "8         7866\n",
       "9         8151\n",
       "10        6499\n",
       "11        6384\n",
       "12        3696\n",
       "Name: Date, dtype: int64"
      ]
     },
     "execution_count": 26,
     "metadata": {},
     "output_type": "execute_result"
    }
   ],
   "source": [
    "tbl_Malaga"
   ]
  },
  {
   "cell_type": "markdown",
   "metadata": {},
   "source": [
    "###4.plotting the searches of the three destinations"
   ]
  },
  {
   "cell_type": "code",
   "execution_count": 31,
   "metadata": {
    "collapsed": false,
    "scrolled": true
   },
   "outputs": [
    {
     "data": {
      "image/png": "[encoded data removed]",
      "text/plain": [
       "<matplotlib.figure.Figure at 0x1c8676240>"
      ]
     },
     "metadata": {},
     "output_type": "display_data"
    }
   ],
   "source": [
    "plt.plot(tbl_Malaga.index, tbl_Malaga.values, 'o-', color='r', label='Searches_Malaga_Dest')\n",
    "plt.plot(tbl_Madrid.index, tbl_Madrid.values, 'o-', color='b', label='Searches_Madrid_Dest')\n",
    "plt.plot(tbl_Barcelona.index, tbl_Barcelona.values, 'o-', color='g', label='Searches_Barcelona_Dest')\n",
    "plt.xlabel(\"Month\")\n",
    "plt.ylabel(\"Number of Searches\")\n",
    "plt.legend(frameon=False, loc='best')\n",
    "plt.show()"
   ]
  },
  {
   "cell_type": "markdown",
   "metadata": {},
   "source": [
    "###5. Re-examining the plotting of the searches\n",
    "\n",
    "_ During the fourth exercice (see below), I found one malformed row and a lot of duplicates. Thus I have to re-consider the third exercice with this new cleaned dataset. _\n"
   ]
  },
  {
   "cell_type": "code",
   "execution_count": 23,
   "metadata": {
    "collapsed": false,
    "scrolled": false
   },
   "outputs": [
    {
     "name": "stderr",
     "output_type": "stream",
     "text": [
      "C:\\Users\\Michael\\Anaconda\\lib\\site-packages\\pandas\\io\\parsers.py:1159: DtypeWarning: Columns (41,42,43,45) have mixed types. Specify dtype option on import or set low_memory=False.\n",
      "  data = self._reader.read(nrows)\n"
     ]
    },
    {
     "data": {
      "text/plain": [
       "<matplotlib.legend.Legend at 0x20308f5f8>"
      ]
     },
     "execution_count": 23,
     "metadata": {},
     "output_type": "execute_result"
    },
    {
     "data": {
      "image/png": "[encoded data removed]",
      "text/plain": [
       "<matplotlib.figure.Figure at 0x1fde7860>"
      ]
     },
     "metadata": {},
     "output_type": "display_data"
    }
   ],
   "source": [
    "searches = pd.read_csv('C:/Users/Michael/Desktop/Amadeus_dataset/Searches_converted_into_Booking.csv')\n",
    "\n",
    "Malaga='AGP'\n",
    "Madrid='MAD'\n",
    "Barcelona='BCN'\n",
    "\n",
    "\n",
    "date_str=[str(row) for row in searches.Date]\n",
    "months = [int(dt_str.split('-')[1]) for dt_str in date_str]\n",
    "searches['Month']=months\n",
    "tbl_Malaga=searches[searches['Destination']==Malaga].groupby('Month').count().iloc[:,0]\n",
    "tbl_Madrid=searches[searches['Destination']==Madrid].groupby('Month').count().iloc[:,0]\n",
    "tbl_Barcelona=searches[searches['Destination']==Barcelona].groupby('Month').count().iloc[:,0]\n",
    "\n",
    "\n",
    "plt.plot(tbl_Malaga.index, tbl_Malaga.values, 'o-', color='r', label='Searches_Malaga_Dest')\n",
    "plt.plot(tbl_Madrid.index, tbl_Madrid.values, 'o-', color='b', label='Searches_Madrid_Dest')\n",
    "plt.plot(tbl_Barcelona.index, tbl_Barcelona.values, 'o-', color='g', label='Searches_Barcelona_Dest')\n",
    "plt.xlabel(\"Month\")\n",
    "plt.ylabel(\"Number of Searches\")\n",
    "plt.legend(frameon=False, loc='best')\n"
   ]
  },
  {
   "cell_type": "markdown",
   "metadata": {},
   "source": [
    "###Conclusion\n",
    "\n",
    "Now the picture is quite different. An increase in the searches is observed in january and august. This is observed on two popular destinations (Madrid and Barcelona), but not on a least popular destination (Malaga). This analysis tells us that most of the searches for summer holidays' destination happen in january and the searches for winter holidays destinations happen in august. We could use this information to suggest promotional operations in january and august."
   ]
  },
  {
   "cell_type": "markdown",
   "metadata": {
    "collapsed": true
   },
   "source": [
    "##Fourth exercise: match searches with bookings\n",
    "\n",
    ">For every search in the searches file, find out whether the search ended up in a booking or not (using the info in the bookings file). For instance, search and booking origin and destination should match. For the bookings file, origin and destination are the columns dep_port and arr_port, respectively. Generate a CSV file with the search data, and an additional field, containing 1 if the search ended up in a booking, and 0 otherwise.\n",
    "\n",
    "To find the searches that convert into booking, we have to assume that the booking occurs the same day as the search.\n",
    "\n",
    "Two dates are present in the bookings dataset: act_date and cre_date. I first assumed that act_date is \"action_date\" (placing the order) and cre_date is the \"creation_date\" (vallidating the order by paying).\n",
    "\n",
    "But then, I got the following feedback from Eoin:\n",
    ">\"When a booking is made originally, it will have the same date in the created and action date fields. However, bookings are frequently modified, say to change for example the number of passengers or the destination or the boarding time or to cancel the booking. When a modification is made, a new row is added with the original creation date, and an action date set to the present day.\"\n",
    "\n",
    "Thus, act_date can change but not cre_date. This cre_date is the one that I want to use to track the first day of booking.\n",
    "\n",
    "I first tried a very naive approach:"
   ]
  },
  {
   "cell_type": "markdown",
   "metadata": {},
   "source": [
    "###1. (not) Looping on the Searches dataFrame\n",
    "\n",
    "```python\n",
    "searches['booking']=[len(dataFixed[(dataFixed.dep_port == row.Origin[0]) & \\\n",
    "(dataFixed.arr_port == row.Destination[0]) & \\\n",
    "(dataFixed.Date == row.Date[0])]) for index,row in searches.iterrows()]\n",
    "```\n",
    "During testing, it took about 1 hour to iterate through 2000 rows. This is too long.\n",
    "\n",
    "Then I looked into true parallel algorithms such as MapReduce. Interestingly pandas has a split-apply-combine strategy that is similar to MapReduce. A great explanation is found [here](http://www.gregreda.com/2013/10/26/working-with-pandas-dataframes/).\n",
    "\n",
    "###2. (not) split-apply-combine\n",
    "\n",
    "The split of the dataFrame is done with the `.groupby()` method."
   ]
  },
  {
   "cell_type": "code",
   "execution_count": null,
   "metadata": {
    "collapsed": true
   },
   "outputs": [],
   "source": [
    "grouped_searches = searches.groupby(['Date'])"
   ]
  },
  {
   "cell_type": "markdown",
   "metadata": {},
   "source": [
    "We can access to the keys of the dict returned by `.groups`"
   ]
  },
  {
   "cell_type": "code",
   "execution_count": null,
   "metadata": {
    "collapsed": true
   },
   "outputs": [],
   "source": [
    "sorted(grouped_searches.groups.keys())\n",
    "\n",
    "#['2013-01-01',\n",
    "# '2013-01-01,10:15:33,MPT,b0af35b31588dc4ab06d5cf2986e8e02,MD,ATH,MIL,0,1,ATH,MIL,2013-01-04,,,,,,,,,,,,,,,,,,,,,,,,,,,,1ASIWS,0,0,0,d41d8cd98f00b204e9800998ecf8427e,KIV',\n",
    "# '2013-01-02',\n",
    "# '2013-01-03',\n",
    "# '2013-01-04',\n",
    "# '2013-01-05', ..."
   ]
  },
  {
   "cell_type": "markdown",
   "metadata": {},
   "source": [
    "One date is malformated here (second row)."
   ]
  },
  {
   "cell_type": "code",
   "execution_count": null,
   "metadata": {
    "collapsed": true
   },
   "outputs": [],
   "source": [
    "rows = searches[searches.Date == '2013-01-01,10:15:33,MPT,b0af35b31588dc4ab06d5cf2986e8e02,MD,ATH,MIL,0,1,ATH,MIL,2013-01-04,,,,,,,,,,,,,,,,,,,,,,,,,,,,1ASIWS,0,0,0,d41d8cd98f00b204e9800998ecf8427e,KIV']\n",
    "#Int64Index([1436001, 1795011, 1795021, 3231031, 3590041, 3590051, 5026061, 5385071, 5385081, 6821091, 7180101, 7180111, 8616121, 8975131, 8975141, 10411151, 10770161, 10770171, 12206181, 12565191, 12565201, 14001211, 14360221, 14360231, 15796241, 16155251, 16155261, 17591271, 17950281, 17950291, 19386301, 19745311, 19745321], dtype='int64')\n",
    "\n",
    "searches.iloc[rows].to_csv('C:/Users/Michael/Desktop/Amadeus_dataset/malformed_Searches_rows.csv')"
   ]
  },
  {
   "cell_type": "markdown",
   "metadata": {},
   "source": [
    "Actually, this is 33 rows that are mal formed. I openned the `malformed_Searches_rows.csv` into notepad++ and found a \" before the date and after KIV."
   ]
  },
  {
   "cell_type": "code",
   "execution_count": null,
   "metadata": {
    "collapsed": true
   },
   "outputs": [],
   "source": [
    "searches[(searches.Date =='2013-01-01') & (searches.Origin == 'ATH') & (searches.Destination == 'MIL')]"
   ]
  },
  {
   "cell_type": "markdown",
   "metadata": {},
   "source": [
    "Then I found 57 occurence of the same row, thus it is safe to remove the malformed row."
   ]
  },
  {
   "cell_type": "code",
   "execution_count": null,
   "metadata": {
    "collapsed": true
   },
   "outputs": [],
   "source": [
    "searches.drop(rows, inplace=True)"
   ]
  },
  {
   "cell_type": "markdown",
   "metadata": {},
   "source": [
    "In addition it will be better to reduce the number of duplicated rows in the searches dataFrame."
   ]
  },
  {
   "cell_type": "code",
   "execution_count": null,
   "metadata": {
    "collapsed": true
   },
   "outputs": [],
   "source": [
    "searches.drop_duplicates(inplace=True)\n",
    "searches.shape[0]\n",
    "# 422189"
   ]
  },
  {
   "cell_type": "markdown",
   "metadata": {},
   "source": [
    "Then I realised that after doing a `.groupby()`on both dataFrames I have no ways to match the groups-by-date in the `.apply()` function. Thus I did not pursue this further.\n",
    "\n",
    "The most important step is to match the two dataframes rows on `Date`, `Origin` and `Destination`. This is known as a `JOIN` in SQL. Interestingly, pandas has a similar fonctionnality with the `.merge()` function.\n",
    "\n",
    "###3. Left JOIN on the Searches with the bookings DataFrame\n",
    "\n",
    "Since the two DataFrames are heavy in memory, I re-imported only the necessary columns of the Bookings file."
   ]
  },
  {
   "cell_type": "code",
   "execution_count": 3,
   "metadata": {
    "collapsed": false
   },
   "outputs": [
    {
     "name": "stderr",
     "output_type": "stream",
     "text": [
      "C:\\Users\\Michael\\Anaconda\\lib\\site-packages\\pandas\\io\\parsers.py:1159: DtypeWarning: Columns (40,41,42,44) have mixed types. Specify dtype option on import or set low_memory=False.\n",
      "  data = self._reader.read(nrows)\n"
     ]
    }
   ],
   "source": [
    "dataFixed = pd.read_csv('C:/Users/Michael/Desktop/Amadeus_dataset/bookings_fixed.csv', usecols=['cre_date           ', 'dep_port','arr_port'])\n",
    "searches = pd.read_csv('C:/Users/Michael/Desktop/Amadeus_dataset/searches.csv', delimiter='^', header=0)\n"
   ]
  },
  {
   "cell_type": "markdown",
   "metadata": {},
   "source": [
    "__/!\\__ About 13Go of RAM required"
   ]
  },
  {
   "cell_type": "code",
   "execution_count": 4,
   "metadata": {
    "collapsed": true
   },
   "outputs": [],
   "source": [
    "rows = searches[searches.Date == '2013-01-01,10:15:33,MPT,b0af35b31588dc4ab06d5cf2986e8e02,MD,ATH,MIL,0,1,ATH,MIL,2013-01-04,,,,,,,,,,,,,,,,,,,,,,,,,,,,1ASIWS,0,0,0,d41d8cd98f00b204e9800998ecf8427e,KIV'].index\n",
    "searches.drop(rows, inplace=True)\n",
    "searches.drop_duplicates(inplace=True)\n",
    "dataFixed.drop_duplicates(inplace=True)"
   ]
  },
  {
   "cell_type": "markdown",
   "metadata": {},
   "source": [
    "__/!\\__ 30Go of RAM is used during this step\n",
    "\n",
    "To merge the DataFrames, the columns names and the type of the data used for the JOIN must be the same."
   ]
  },
  {
   "cell_type": "code",
   "execution_count": 5,
   "metadata": {
    "collapsed": true
   },
   "outputs": [],
   "source": [
    "dataFixed['Date']=pd.to_datetime(dataFixed['cre_date           '])\n",
    "searches['Date']=pd.to_datetime(searches['Date'])\n"
   ]
  },
  {
   "cell_type": "markdown",
   "metadata": {},
   "source": [
    "Then non-used columns can be dropped:"
   ]
  },
  {
   "cell_type": "code",
   "execution_count": 6,
   "metadata": {
    "collapsed": true
   },
   "outputs": [],
   "source": [
    "del dataFixed['cre_date           ']"
   ]
  },
  {
   "cell_type": "markdown",
   "metadata": {},
   "source": [
    "I noticed some spaces after the `dep_port` and `arr_port` data. This invisible spaces will not match with the same string without the spaces in the `Origin`and `Destination` data. We can remove these with the `.strip()` function."
   ]
  },
  {
   "cell_type": "code",
   "execution_count": 7,
   "metadata": {
    "collapsed": true
   },
   "outputs": [],
   "source": [
    "dataFixed['Origin'] = dataFixed['dep_port'].map(str.strip)\n",
    "dataFixed['Destination'] = dataFixed['arr_port'].map(str.strip)\n",
    "\n",
    "del dataFixed['dep_port']\n",
    "del dataFixed['arr_port']"
   ]
  },
  {
   "cell_type": "markdown",
   "metadata": {},
   "source": [
    "Then we can mark the rows in the bookings DataFrame to be able to track them down when they will be joined to the searches."
   ]
  },
  {
   "cell_type": "code",
   "execution_count": 9,
   "metadata": {
    "collapsed": false
   },
   "outputs": [
    {
     "data": {
      "text/html": [
       "<div style=\"max-height:1000px;max-width:1500px;overflow:auto;\">\n",
       "<table border=\"1\" class=\"dataframe\">\n",
       "  <thead>\n",
       "    <tr style=\"text-align: right;\">\n",
       "      <th></th>\n",
       "      <th>Date</th>\n",
       "      <th>Origin</th>\n",
       "      <th>Destination</th>\n",
       "      <th>Booking</th>\n",
       "    </tr>\n",
       "  </thead>\n",
       "  <tbody>\n",
       "    <tr>\n",
       "      <th>0</th>\n",
       "      <td>2013-02-22</td>\n",
       "      <td> ZRH</td>\n",
       "      <td> LHR</td>\n",
       "      <td> 1</td>\n",
       "    </tr>\n",
       "    <tr>\n",
       "      <th>1</th>\n",
       "      <td>2013-03-26</td>\n",
       "      <td> SAL</td>\n",
       "      <td> CLT</td>\n",
       "      <td> 1</td>\n",
       "    </tr>\n",
       "    <tr>\n",
       "      <th>3</th>\n",
       "      <td>2013-03-26</td>\n",
       "      <td> AKL</td>\n",
       "      <td> SVO</td>\n",
       "      <td> 1</td>\n",
       "    </tr>\n",
       "    <tr>\n",
       "      <th>5</th>\n",
       "      <td>2013-03-20</td>\n",
       "      <td> DEN</td>\n",
       "      <td> LGA</td>\n",
       "      <td> 1</td>\n",
       "    </tr>\n",
       "    <tr>\n",
       "      <th>7</th>\n",
       "      <td>2013-03-25</td>\n",
       "      <td> NRT</td>\n",
       "      <td> SIN</td>\n",
       "      <td> 1</td>\n",
       "    </tr>\n",
       "  </tbody>\n",
       "</table>\n",
       "</div>"
      ],
      "text/plain": [
       "        Date Origin Destination  Booking\n",
       "0 2013-02-22    ZRH         LHR        1\n",
       "1 2013-03-26    SAL         CLT        1\n",
       "3 2013-03-26    AKL         SVO        1\n",
       "5 2013-03-20    DEN         LGA        1\n",
       "7 2013-03-25    NRT         SIN        1"
      ]
     },
     "execution_count": 9,
     "metadata": {},
     "output_type": "execute_result"
    }
   ],
   "source": [
    "dataFixed['Booking']=1\n",
    "\n",
    "dataFixed.head()\n"
   ]
  },
  {
   "cell_type": "code",
   "execution_count": 10,
   "metadata": {
    "collapsed": false
   },
   "outputs": [
    {
     "data": {
      "text/html": [
       "<div style=\"max-height:1000px;max-width:1500px;overflow:auto;\">\n",
       "<table border=\"1\" class=\"dataframe\">\n",
       "  <thead>\n",
       "    <tr style=\"text-align: right;\">\n",
       "      <th></th>\n",
       "      <th>Date</th>\n",
       "      <th>Time</th>\n",
       "      <th>TxnCode</th>\n",
       "      <th>OfficeID</th>\n",
       "      <th>Country</th>\n",
       "      <th>Origin</th>\n",
       "      <th>Destination</th>\n",
       "      <th>RoundTrip</th>\n",
       "      <th>NbSegments</th>\n",
       "      <th>Seg1Departure</th>\n",
       "      <th>...</th>\n",
       "      <th>Seg6Arrival</th>\n",
       "      <th>Seg6Date</th>\n",
       "      <th>Seg6Carrier</th>\n",
       "      <th>Seg6BookingCode</th>\n",
       "      <th>From</th>\n",
       "      <th>IsPublishedForNeg</th>\n",
       "      <th>IsFromInternet</th>\n",
       "      <th>IsFromVista</th>\n",
       "      <th>TerminalID</th>\n",
       "      <th>InternetOffice</th>\n",
       "    </tr>\n",
       "  </thead>\n",
       "  <tbody>\n",
       "    <tr>\n",
       "      <th>0</th>\n",
       "      <td>2013-01-01</td>\n",
       "      <td> 20:25:57</td>\n",
       "      <td> MPT</td>\n",
       "      <td> 624d8c3ac0b3a7ca03e3c167e0f48327</td>\n",
       "      <td> DE</td>\n",
       "      <td> TXL</td>\n",
       "      <td> AUH</td>\n",
       "      <td> 1</td>\n",
       "      <td> 2</td>\n",
       "      <td> TXL</td>\n",
       "      <td>...</td>\n",
       "      <td> NaN</td>\n",
       "      <td> NaN</td>\n",
       "      <td> NaN</td>\n",
       "      <td> NaN</td>\n",
       "      <td> 1ASIWS</td>\n",
       "      <td> 0</td>\n",
       "      <td> 0</td>\n",
       "      <td> 0</td>\n",
       "      <td> d41d8cd98f00b204e9800998ecf8427e</td>\n",
       "      <td> FRA</td>\n",
       "    </tr>\n",
       "    <tr>\n",
       "      <th>1</th>\n",
       "      <td>2013-01-01</td>\n",
       "      <td> 10:15:33</td>\n",
       "      <td> MPT</td>\n",
       "      <td> b0af35b31588dc4ab06d5cf2986e8e02</td>\n",
       "      <td> MD</td>\n",
       "      <td> ATH</td>\n",
       "      <td> MIL</td>\n",
       "      <td> 0</td>\n",
       "      <td> 1</td>\n",
       "      <td> ATH</td>\n",
       "      <td>...</td>\n",
       "      <td> NaN</td>\n",
       "      <td> NaN</td>\n",
       "      <td> NaN</td>\n",
       "      <td> NaN</td>\n",
       "      <td> 1ASIWS</td>\n",
       "      <td> 0</td>\n",
       "      <td> 0</td>\n",
       "      <td> 0</td>\n",
       "      <td> d41d8cd98f00b204e9800998ecf8427e</td>\n",
       "      <td> KIV</td>\n",
       "    </tr>\n",
       "    <tr>\n",
       "      <th>2</th>\n",
       "      <td>2013-01-01</td>\n",
       "      <td> 18:04:49</td>\n",
       "      <td> MPT</td>\n",
       "      <td> 3561a60621de06ab1badc8ca55699ef3</td>\n",
       "      <td> US</td>\n",
       "      <td> ICT</td>\n",
       "      <td> SFO</td>\n",
       "      <td> 1</td>\n",
       "      <td> 2</td>\n",
       "      <td> ICT</td>\n",
       "      <td>...</td>\n",
       "      <td> NaN</td>\n",
       "      <td> NaN</td>\n",
       "      <td> NaN</td>\n",
       "      <td> NaN</td>\n",
       "      <td> 1ASIWS</td>\n",
       "      <td> 0</td>\n",
       "      <td> 0</td>\n",
       "      <td> 0</td>\n",
       "      <td> d41d8cd98f00b204e9800998ecf8427e</td>\n",
       "      <td> NYC</td>\n",
       "    </tr>\n",
       "    <tr>\n",
       "      <th>3</th>\n",
       "      <td>2013-01-01</td>\n",
       "      <td> 17:42:40</td>\n",
       "      <td> FXP</td>\n",
       "      <td> 1864e5e8013d9414150e91d26b6a558b</td>\n",
       "      <td> SE</td>\n",
       "      <td> RNB</td>\n",
       "      <td> ARN</td>\n",
       "      <td> 0</td>\n",
       "      <td> 1</td>\n",
       "      <td> RNB</td>\n",
       "      <td>...</td>\n",
       "      <td> NaN</td>\n",
       "      <td> NaN</td>\n",
       "      <td> NaN</td>\n",
       "      <td> NaN</td>\n",
       "      <td>   1ASI</td>\n",
       "      <td> 0</td>\n",
       "      <td> 0</td>\n",
       "      <td> 0</td>\n",
       "      <td> d41d8cd98f00b204e9800998ecf8427e</td>\n",
       "      <td> STO</td>\n",
       "    </tr>\n",
       "    <tr>\n",
       "      <th>4</th>\n",
       "      <td>2013-01-01</td>\n",
       "      <td> 17:48:29</td>\n",
       "      <td> MPT</td>\n",
       "      <td> 1ec336348f44207d2e0027dc3a68c118</td>\n",
       "      <td> NO</td>\n",
       "      <td> OSL</td>\n",
       "      <td> MAD</td>\n",
       "      <td> 1</td>\n",
       "      <td> 2</td>\n",
       "      <td> OSL</td>\n",
       "      <td>...</td>\n",
       "      <td> NaN</td>\n",
       "      <td> NaN</td>\n",
       "      <td> NaN</td>\n",
       "      <td> NaN</td>\n",
       "      <td> 1ASIWS</td>\n",
       "      <td> 0</td>\n",
       "      <td> 0</td>\n",
       "      <td> 0</td>\n",
       "      <td> d41d8cd98f00b204e9800998ecf8427e</td>\n",
       "      <td> OSL</td>\n",
       "    </tr>\n",
       "  </tbody>\n",
       "</table>\n",
       "<p>5 rows × 45 columns</p>\n",
       "</div>"
      ],
      "text/plain": [
       "        Date      Time TxnCode                          OfficeID Country  \\\n",
       "0 2013-01-01  20:25:57     MPT  624d8c3ac0b3a7ca03e3c167e0f48327      DE   \n",
       "1 2013-01-01  10:15:33     MPT  b0af35b31588dc4ab06d5cf2986e8e02      MD   \n",
       "2 2013-01-01  18:04:49     MPT  3561a60621de06ab1badc8ca55699ef3      US   \n",
       "3 2013-01-01  17:42:40     FXP  1864e5e8013d9414150e91d26b6a558b      SE   \n",
       "4 2013-01-01  17:48:29     MPT  1ec336348f44207d2e0027dc3a68c118      NO   \n",
       "\n",
       "  Origin Destination  RoundTrip  NbSegments Seg1Departure      ...        \\\n",
       "0    TXL         AUH          1           2           TXL      ...         \n",
       "1    ATH         MIL          0           1           ATH      ...         \n",
       "2    ICT         SFO          1           2           ICT      ...         \n",
       "3    RNB         ARN          0           1           RNB      ...         \n",
       "4    OSL         MAD          1           2           OSL      ...         \n",
       "\n",
       "  Seg6Arrival Seg6Date Seg6Carrier Seg6BookingCode    From IsPublishedForNeg  \\\n",
       "0         NaN      NaN         NaN             NaN  1ASIWS                 0   \n",
       "1         NaN      NaN         NaN             NaN  1ASIWS                 0   \n",
       "2         NaN      NaN         NaN             NaN  1ASIWS                 0   \n",
       "3         NaN      NaN         NaN             NaN    1ASI                 0   \n",
       "4         NaN      NaN         NaN             NaN  1ASIWS                 0   \n",
       "\n",
       "  IsFromInternet IsFromVista                        TerminalID InternetOffice  \n",
       "0              0           0  d41d8cd98f00b204e9800998ecf8427e            FRA  \n",
       "1              0           0  d41d8cd98f00b204e9800998ecf8427e            KIV  \n",
       "2              0           0  d41d8cd98f00b204e9800998ecf8427e            NYC  \n",
       "3              0           0  d41d8cd98f00b204e9800998ecf8427e            STO  \n",
       "4              0           0  d41d8cd98f00b204e9800998ecf8427e            OSL  \n",
       "\n",
       "[5 rows x 45 columns]"
      ]
     },
     "execution_count": 10,
     "metadata": {},
     "output_type": "execute_result"
    }
   ],
   "source": [
    "searches.head()"
   ]
  },
  {
   "cell_type": "markdown",
   "metadata": {},
   "source": [
    "I performed a `LEFT JOIN` to keep all the unique searches with an additional column comming from `dataFixed['Booking']`. Then the booking row will be \"1\" if this row is present in the two DataFrames or \"NaN\" (empty) if it is only found in the `searches` DataFrame."
   ]
  },
  {
   "cell_type": "code",
   "execution_count": 11,
   "metadata": {
    "collapsed": true
   },
   "outputs": [],
   "source": [
    "mergeDf = pd.merge(searches,dataFixed, how='left', on=['Date','Origin','Destination'])\n"
   ]
  },
  {
   "cell_type": "markdown",
   "metadata": {},
   "source": [
    "To add \"0\" instead of \"NaN\" in the empty booking rows, I did:"
   ]
  },
  {
   "cell_type": "code",
   "execution_count": 13,
   "metadata": {
    "collapsed": false
   },
   "outputs": [
    {
     "data": {
      "text/html": [
       "<div style=\"max-height:1000px;max-width:1500px;overflow:auto;\">\n",
       "<table border=\"1\" class=\"dataframe\">\n",
       "  <thead>\n",
       "    <tr style=\"text-align: right;\">\n",
       "      <th></th>\n",
       "      <th>Date</th>\n",
       "      <th>Time</th>\n",
       "      <th>TxnCode</th>\n",
       "      <th>OfficeID</th>\n",
       "      <th>Country</th>\n",
       "      <th>Origin</th>\n",
       "      <th>Destination</th>\n",
       "      <th>RoundTrip</th>\n",
       "      <th>NbSegments</th>\n",
       "      <th>Seg1Departure</th>\n",
       "      <th>...</th>\n",
       "      <th>Seg6Date</th>\n",
       "      <th>Seg6Carrier</th>\n",
       "      <th>Seg6BookingCode</th>\n",
       "      <th>From</th>\n",
       "      <th>IsPublishedForNeg</th>\n",
       "      <th>IsFromInternet</th>\n",
       "      <th>IsFromVista</th>\n",
       "      <th>TerminalID</th>\n",
       "      <th>InternetOffice</th>\n",
       "      <th>Booking</th>\n",
       "    </tr>\n",
       "  </thead>\n",
       "  <tbody>\n",
       "    <tr>\n",
       "      <th>0</th>\n",
       "      <td>2013-01-01</td>\n",
       "      <td> 20:25:57</td>\n",
       "      <td> MPT</td>\n",
       "      <td> 624d8c3ac0b3a7ca03e3c167e0f48327</td>\n",
       "      <td> DE</td>\n",
       "      <td> TXL</td>\n",
       "      <td> AUH</td>\n",
       "      <td> 1</td>\n",
       "      <td> 2</td>\n",
       "      <td> TXL</td>\n",
       "      <td>...</td>\n",
       "      <td> NaN</td>\n",
       "      <td> NaN</td>\n",
       "      <td> NaN</td>\n",
       "      <td> 1ASIWS</td>\n",
       "      <td> 0</td>\n",
       "      <td> 0</td>\n",
       "      <td> 0</td>\n",
       "      <td> d41d8cd98f00b204e9800998ecf8427e</td>\n",
       "      <td> FRA</td>\n",
       "      <td> 0</td>\n",
       "    </tr>\n",
       "    <tr>\n",
       "      <th>1</th>\n",
       "      <td>2013-01-01</td>\n",
       "      <td> 10:15:33</td>\n",
       "      <td> MPT</td>\n",
       "      <td> b0af35b31588dc4ab06d5cf2986e8e02</td>\n",
       "      <td> MD</td>\n",
       "      <td> ATH</td>\n",
       "      <td> MIL</td>\n",
       "      <td> 0</td>\n",
       "      <td> 1</td>\n",
       "      <td> ATH</td>\n",
       "      <td>...</td>\n",
       "      <td> NaN</td>\n",
       "      <td> NaN</td>\n",
       "      <td> NaN</td>\n",
       "      <td> 1ASIWS</td>\n",
       "      <td> 0</td>\n",
       "      <td> 0</td>\n",
       "      <td> 0</td>\n",
       "      <td> d41d8cd98f00b204e9800998ecf8427e</td>\n",
       "      <td> KIV</td>\n",
       "      <td> 0</td>\n",
       "    </tr>\n",
       "    <tr>\n",
       "      <th>2</th>\n",
       "      <td>2013-01-01</td>\n",
       "      <td> 18:04:49</td>\n",
       "      <td> MPT</td>\n",
       "      <td> 3561a60621de06ab1badc8ca55699ef3</td>\n",
       "      <td> US</td>\n",
       "      <td> ICT</td>\n",
       "      <td> SFO</td>\n",
       "      <td> 1</td>\n",
       "      <td> 2</td>\n",
       "      <td> ICT</td>\n",
       "      <td>...</td>\n",
       "      <td> NaN</td>\n",
       "      <td> NaN</td>\n",
       "      <td> NaN</td>\n",
       "      <td> 1ASIWS</td>\n",
       "      <td> 0</td>\n",
       "      <td> 0</td>\n",
       "      <td> 0</td>\n",
       "      <td> d41d8cd98f00b204e9800998ecf8427e</td>\n",
       "      <td> NYC</td>\n",
       "      <td> 0</td>\n",
       "    </tr>\n",
       "    <tr>\n",
       "      <th>3</th>\n",
       "      <td>2013-01-01</td>\n",
       "      <td> 17:42:40</td>\n",
       "      <td> FXP</td>\n",
       "      <td> 1864e5e8013d9414150e91d26b6a558b</td>\n",
       "      <td> SE</td>\n",
       "      <td> RNB</td>\n",
       "      <td> ARN</td>\n",
       "      <td> 0</td>\n",
       "      <td> 1</td>\n",
       "      <td> RNB</td>\n",
       "      <td>...</td>\n",
       "      <td> NaN</td>\n",
       "      <td> NaN</td>\n",
       "      <td> NaN</td>\n",
       "      <td>   1ASI</td>\n",
       "      <td> 0</td>\n",
       "      <td> 0</td>\n",
       "      <td> 0</td>\n",
       "      <td> d41d8cd98f00b204e9800998ecf8427e</td>\n",
       "      <td> STO</td>\n",
       "      <td> 0</td>\n",
       "    </tr>\n",
       "    <tr>\n",
       "      <th>4</th>\n",
       "      <td>2013-01-01</td>\n",
       "      <td> 17:48:29</td>\n",
       "      <td> MPT</td>\n",
       "      <td> 1ec336348f44207d2e0027dc3a68c118</td>\n",
       "      <td> NO</td>\n",
       "      <td> OSL</td>\n",
       "      <td> MAD</td>\n",
       "      <td> 1</td>\n",
       "      <td> 2</td>\n",
       "      <td> OSL</td>\n",
       "      <td>...</td>\n",
       "      <td> NaN</td>\n",
       "      <td> NaN</td>\n",
       "      <td> NaN</td>\n",
       "      <td> 1ASIWS</td>\n",
       "      <td> 0</td>\n",
       "      <td> 0</td>\n",
       "      <td> 0</td>\n",
       "      <td> d41d8cd98f00b204e9800998ecf8427e</td>\n",
       "      <td> OSL</td>\n",
       "      <td> 0</td>\n",
       "    </tr>\n",
       "  </tbody>\n",
       "</table>\n",
       "<p>5 rows × 46 columns</p>\n",
       "</div>"
      ],
      "text/plain": [
       "        Date      Time TxnCode                          OfficeID Country  \\\n",
       "0 2013-01-01  20:25:57     MPT  624d8c3ac0b3a7ca03e3c167e0f48327      DE   \n",
       "1 2013-01-01  10:15:33     MPT  b0af35b31588dc4ab06d5cf2986e8e02      MD   \n",
       "2 2013-01-01  18:04:49     MPT  3561a60621de06ab1badc8ca55699ef3      US   \n",
       "3 2013-01-01  17:42:40     FXP  1864e5e8013d9414150e91d26b6a558b      SE   \n",
       "4 2013-01-01  17:48:29     MPT  1ec336348f44207d2e0027dc3a68c118      NO   \n",
       "\n",
       "  Origin Destination  RoundTrip  NbSegments Seg1Departure   ...   Seg6Date  \\\n",
       "0    TXL         AUH          1           2           TXL   ...        NaN   \n",
       "1    ATH         MIL          0           1           ATH   ...        NaN   \n",
       "2    ICT         SFO          1           2           ICT   ...        NaN   \n",
       "3    RNB         ARN          0           1           RNB   ...        NaN   \n",
       "4    OSL         MAD          1           2           OSL   ...        NaN   \n",
       "\n",
       "  Seg6Carrier Seg6BookingCode    From IsPublishedForNeg IsFromInternet  \\\n",
       "0         NaN             NaN  1ASIWS                 0              0   \n",
       "1         NaN             NaN  1ASIWS                 0              0   \n",
       "2         NaN             NaN  1ASIWS                 0              0   \n",
       "3         NaN             NaN    1ASI                 0              0   \n",
       "4         NaN             NaN  1ASIWS                 0              0   \n",
       "\n",
       "  IsFromVista                        TerminalID InternetOffice Booking  \n",
       "0           0  d41d8cd98f00b204e9800998ecf8427e            FRA       0  \n",
       "1           0  d41d8cd98f00b204e9800998ecf8427e            KIV       0  \n",
       "2           0  d41d8cd98f00b204e9800998ecf8427e            NYC       0  \n",
       "3           0  d41d8cd98f00b204e9800998ecf8427e            STO       0  \n",
       "4           0  d41d8cd98f00b204e9800998ecf8427e            OSL       0  \n",
       "\n",
       "[5 rows x 46 columns]"
      ]
     },
     "execution_count": 13,
     "metadata": {},
     "output_type": "execute_result"
    }
   ],
   "source": [
    "mergeDf.Booking.fillna(value=0,inplace=True)\n",
    "\n",
    "mergeDf.head()"
   ]
  },
  {
   "cell_type": "markdown",
   "metadata": {},
   "source": [
    "I noticed that the Booking dtype is a `float64`, thus we need to convert it to an `int` if we want only 1 or 0 in the final csv file (instead of 1.0 and 0.0)."
   ]
  },
  {
   "cell_type": "code",
   "execution_count": 15,
   "metadata": {
    "collapsed": true
   },
   "outputs": [],
   "source": [
    "mergeDf.Booking=mergeDf.Booking.astype(int)\n",
    "\n",
    "\n",
    "mergeDf.to_csv('C:/Users/Michael/Desktop/Amadeus_dataset/Searches_converted_into_Booking.csv')\n"
   ]
  },
  {
   "cell_type": "markdown",
   "metadata": {},
   "source": [
    "###5. Future directions and recommandations\n",
    "\n",
    "We now have an intersting enriched dataset that could tell us what is the most profitable search in term of convertion into a booking. We then could for example use this information to adjust the prices.\n",
    "\n",
    "A first question could be: What is the travel that have the highest conversion rate?"
   ]
  },
  {
   "cell_type": "code",
   "execution_count": 16,
   "metadata": {
    "collapsed": false
   },
   "outputs": [
    {
     "data": {
      "text/plain": [
       "count    91462.000000\n",
       "mean         4.616004\n",
       "std         12.509808\n",
       "min          1.000000\n",
       "25%          1.000000\n",
       "50%          2.000000\n",
       "75%          4.000000\n",
       "max        807.000000\n",
       "Name: Booking, dtype: float64"
      ]
     },
     "execution_count": 16,
     "metadata": {},
     "output_type": "execute_result"
    }
   ],
   "source": [
    "trip_grpby=mergeDf.groupby(['Origin','Destination'])\n",
    "book_count = trip_grpby.Booking.count()\n",
    "book_count.describe()"
   ]
  },
  {
   "cell_type": "code",
   "execution_count": 17,
   "metadata": {
    "collapsed": false
   },
   "outputs": [
    {
     "data": {
      "text/plain": [
       "count    91462.000000\n",
       "mean         0.166222\n",
       "std          2.278376\n",
       "min          0.000000\n",
       "25%          0.000000\n",
       "50%          0.000000\n",
       "75%          0.000000\n",
       "max        379.000000\n",
       "Name: Booking, dtype: float64"
      ]
     },
     "execution_count": 17,
     "metadata": {},
     "output_type": "execute_result"
    }
   ],
   "source": [
    "book_sum = trip_grpby.Booking.sum()\n",
    "book_sum.describe()"
   ]
  },
  {
   "cell_type": "markdown",
   "metadata": {},
   "source": [
    "One trip has a very high booking rate (379)."
   ]
  },
  {
   "cell_type": "code",
   "execution_count": 18,
   "metadata": {
    "collapsed": false
   },
   "outputs": [
    {
     "data": {
      "text/html": [
       "<div style=\"max-height:1000px;max-width:1500px;overflow:auto;\">\n",
       "<table border=\"1\" class=\"dataframe\">\n",
       "  <thead>\n",
       "    <tr style=\"text-align: right;\">\n",
       "      <th></th>\n",
       "      <th></th>\n",
       "      <th></th>\n",
       "      <th>Booking</th>\n",
       "      <th>NbSegments</th>\n",
       "      <th>RoundTrip</th>\n",
       "    </tr>\n",
       "    <tr>\n",
       "      <th>Origin</th>\n",
       "      <th>Destination</th>\n",
       "      <th></th>\n",
       "      <th></th>\n",
       "      <th></th>\n",
       "      <th></th>\n",
       "    </tr>\n",
       "  </thead>\n",
       "  <tbody>\n",
       "    <tr>\n",
       "      <th rowspan=\"8\" valign=\"top\">RUH</th>\n",
       "      <th rowspan=\"8\" valign=\"top\">JED</th>\n",
       "      <th>count</th>\n",
       "      <td> 764.000000</td>\n",
       "      <td> 764.000000</td>\n",
       "      <td> 764.000000</td>\n",
       "    </tr>\n",
       "    <tr>\n",
       "      <th>mean</th>\n",
       "      <td>   0.496073</td>\n",
       "      <td>   1.035340</td>\n",
       "      <td>   0.030105</td>\n",
       "    </tr>\n",
       "    <tr>\n",
       "      <th>std</th>\n",
       "      <td>   0.500312</td>\n",
       "      <td>   0.204938</td>\n",
       "      <td>   0.170987</td>\n",
       "    </tr>\n",
       "    <tr>\n",
       "      <th>min</th>\n",
       "      <td>   0.000000</td>\n",
       "      <td>   1.000000</td>\n",
       "      <td>   0.000000</td>\n",
       "    </tr>\n",
       "    <tr>\n",
       "      <th>25%</th>\n",
       "      <td>   0.000000</td>\n",
       "      <td>   1.000000</td>\n",
       "      <td>   0.000000</td>\n",
       "    </tr>\n",
       "    <tr>\n",
       "      <th>50%</th>\n",
       "      <td>   0.000000</td>\n",
       "      <td>   1.000000</td>\n",
       "      <td>   0.000000</td>\n",
       "    </tr>\n",
       "    <tr>\n",
       "      <th>75%</th>\n",
       "      <td>   1.000000</td>\n",
       "      <td>   1.000000</td>\n",
       "      <td>   0.000000</td>\n",
       "    </tr>\n",
       "    <tr>\n",
       "      <th>max</th>\n",
       "      <td>   1.000000</td>\n",
       "      <td>   3.000000</td>\n",
       "      <td>   1.000000</td>\n",
       "    </tr>\n",
       "  </tbody>\n",
       "</table>\n",
       "</div>"
      ],
      "text/plain": [
       "                             Booking  NbSegments   RoundTrip\n",
       "Origin Destination                                          \n",
       "RUH    JED         count  764.000000  764.000000  764.000000\n",
       "                   mean     0.496073    1.035340    0.030105\n",
       "                   std      0.500312    0.204938    0.170987\n",
       "                   min      0.000000    1.000000    0.000000\n",
       "                   25%      0.000000    1.000000    0.000000\n",
       "                   50%      0.000000    1.000000    0.000000\n",
       "                   75%      1.000000    1.000000    0.000000\n",
       "                   max      1.000000    3.000000    1.000000"
      ]
     },
     "execution_count": 18,
     "metadata": {},
     "output_type": "execute_result"
    }
   ],
   "source": [
    "profitable_trip = mergeDf.groupby(['Origin','Destination']).filter(lambda x: x.Booking.sum() > 370)\n",
    "profitable_trip.groupby(['Origin','Destination']).describe()\n"
   ]
  },
  {
   "cell_type": "markdown",
   "metadata": {},
   "source": [
    "The travel searche from RUH>JED has 49.6% (379/764) rate of convertion into a booking. More specifically:"
   ]
  },
  {
   "cell_type": "code",
   "execution_count": 19,
   "metadata": {
    "collapsed": true
   },
   "outputs": [
    {
     "name": "stdout",
     "output_type": "stream",
     "text": [
      "Import successful from C:\\Users\\Michael\\AppData\\Roaming\\Python\\Python27\\site-packages\\geobases-5.0.16-py2.7.egg\\GeoBases\\DataSources\\Airports/GeoNames/airports_geonames_only_clean.csv\n",
      "Available fields for things: ['__key__', '__dup__', '__par__', '__lno__', 'iata_code', 'name', 'city_code', 'country_code', 'country_name', 'lat', 'lng', '__gar__']\n",
      "(Join) loaded external base \"countries\" [with ('code',)] for join on ('country_code',)\n",
      "Built index for fields ('code',)\n",
      "(Join) loaded external base \"ori_por\" [with ('iata_code',)] for join on ('city_code',)\n",
      "/!\\ Index on ('iata_code',) already built, exiting...\n"
     ]
    }
   ],
   "source": [
    "geo_o = GeoBase(data='airports')"
   ]
  },
  {
   "cell_type": "code",
   "execution_count": 21,
   "metadata": {
    "collapsed": false
   },
   "outputs": [
    {
     "data": {
      "text/plain": [
       "'King Khalid International'"
      ]
     },
     "execution_count": 21,
     "metadata": {},
     "output_type": "execute_result"
    }
   ],
   "source": [
    "geo_o.get('RUH', 'name')\n"
   ]
  },
  {
   "cell_type": "markdown",
   "metadata": {},
   "source": [
    "Saudi Arabia"
   ]
  },
  {
   "cell_type": "code",
   "execution_count": 22,
   "metadata": {
    "collapsed": false
   },
   "outputs": [
    {
     "data": {
      "text/plain": [
       "'Jeddah King Abdul Aziz International Airport '"
      ]
     },
     "execution_count": 22,
     "metadata": {},
     "output_type": "execute_result"
    }
   ],
   "source": [
    "geo_o.get('JED', 'name')"
   ]
  },
  {
   "cell_type": "markdown",
   "metadata": {},
   "source": [
    "Saudi Arabia"
   ]
  },
  {
   "cell_type": "markdown",
   "metadata": {},
   "source": [
    "###Conclusion"
   ]
  },
  {
   "cell_type": "markdown",
   "metadata": {},
   "source": [
    "The most profitable travel search is an internal flight in Saudi Arabia. One comercial strategy might be to test increases in prices for this travel (and others that we can identify using the same approach) until we detect a significant decrease in the convertion rate. This could be done using A/B testing on the web site during a specific period of the year."
   ]
  },
  {
   "cell_type": "markdown",
   "metadata": {},
   "source": [
    "##Bonus exercise: write a Web Service\n",
    "\n",
    ">Wrap the output of the second exercise in a web service that returns the data in JSON format (instead of printing to the standard output). The web service should accept a parameter n>0. For the top 10 airports, n is 10. For the X top airports, n is X.\n",
    "\n",
    "To implement this web service I found a very good blog post by [Miguel Grinberg](http://blog.miguelgrinberg.com/post/designing-a-restful-api-with-python-and-flask) about designing a RESTful API with [flask](http://flask.pocoo.org/).\n",
    "\n",
    "Since we only want to return the data, we only need to implement a GET method:"
   ]
  },
  {
   "cell_type": "code",
   "execution_count": null,
   "metadata": {
    "collapsed": true
   },
   "outputs": [],
   "source": [
    "from flask import Flask, jsonify\n",
    "import pandas as pd\n",
    "\n",
    "app = Flask(__name__)\n",
    "\n",
    "data = pd.read_csv('C:/Users/Michael/Desktop/Amadeus_dataset/bookings_fixed.csv')\n",
    "sum_pax_by_arr_port= data.groupby('arr_port').pax.sum()\n",
    "\n",
    "sum_pax_by_arr_port_ordered = sum_pax_by_arr_port.order(ascending=False)\n",
    "\n",
    "\n",
    "@app.route(\"/arrival_airport/top/<int:x>\", methods = ['GET'])\n",
    "def get_top(x):\n",
    "    return jsonify(sum_pax_by_arr_port_ordered.head(n=x).to_json())\n",
    "    \n",
    "\n",
    "if __name__ == \"__main__\":\n",
    "    app.run()"
   ]
  },
  {
   "cell_type": "markdown",
   "metadata": {},
   "source": [
    "By running this application, we obtain the top X arrival airport with:"
   ]
  },
  {
   "cell_type": "code",
   "execution_count": null,
   "metadata": {
    "collapsed": true
   },
   "outputs": [],
   "source": [
    "http://localhost:5000/arrival_airport/top/100\n",
    "#        {\"LHR \":88809.0,\"MCO \":70930.0,\"LAX \":70530.0,\"LAS \":69630.0,\"JFK \":66270.0,\"CDG \":64490.0,\"BKK \":59460.0,\"MIA \":58150.0,\"SFO \":58000.0,\"DXB \":55590.0,\"ORD \":53200.0,\"FCO \":45120.0,\"IST \":43850.0,\"DFW \":42420.0,\"CUN \":42000.0,\"MAD \":41410.0,\"BCN \":41200.0,\"LGA \":40712.0,\"ATL \":39780.0,\"EWR \":36890.0,\"BOS \":35840.0,\"DEL \":35680.0,\"SYD \":33690.0,\"BOM \":33440.0,\"MUC \":33180.0,\"DEN \":32630.0,\"MNL \":32400.0,\"HKG \":32020.0,\"FRA \":31970.0,\"ORY \":31800.0,\"SEA \":31530.0,\"FLL \":31170.0,\"TXL \":30590.0,\"AMS \":30580.0,\"PHX \":29730.0,\"DCA \":29000.0,\"MEX \":28120.0,\"IAH \":28090.0,\"JED \":27090.0,\"PVG \":26630.0,\"YYZ \":26070.0,\"VIE \":25750.0,\"LIS \":25050.0,\"SIN \":24876.0,\"CAI \":24640.0,\"HNL \":24140.0,\"ATH \":24100.0,\"MEL \":23830.0,\"SAN \":23720.0,\"JNB \":23710.0,\"PEK \":23680.0,\"BOG \":23090.0,\"PHL \":22210.0,\"ARN \":21800.0,\"TPA \":21530.0,\"SVO \":21292.0,\"BRU \":20940.0,\"TLV \":20190.0,\"ZRH \":20190.0,\"LIM \":20150.0,\"MSP \":20030.0,\"CPH \":19740.0,\"BNE \":19480.0,\"RUH \":19440.0,\"IAD \":19170.0,\"ICN \":18560.0,\"DUS \":18250.0,\"KUL \":18200.0,\"DTW \":17800.0,\"OSL \":17000.0,\"MXP \":16950.0,\"CLT \":16862.0,\"NRT \":16570.0,\"LED \":15960.0,\"YVR \":15920.0,\"CPT \":15840.0,\"MSY \":15820.0,\"HAM \":15640.0,\"PUJ \":14960.0,\"MAA \":14940.0,\"AKL \":14940.0,\"NCE \":14880.0,\"GVA \":14720.0,\"TPE \":14450.0,\"HKT \":14040.0,\"YUL \":14040.0,\"LIN \":14020.0,\"PRG \":13990.0,\"GRU \":13850.0,\"PMI \":13840.0,\"TUN \":13830.0,\"SJU \":13730.0,\"DME \":13600.0,\"BWI \":13590.0,\"SLC \":13530.0,\"BLR \":13490.0,\"PER \":13300.0,\"DUB \":12900.0,\"STL \":12760.0,\"DPS \":12740.0}"
   ]
  },
  {
   "cell_type": "markdown",
   "metadata": {},
   "source": [
    "###Conclusion\n",
    "This API is very simple and could be enriched with other functionalities such as retrieving the name of the airports instead of the IATA codes."
   ]
  }
 ],
 "metadata": {
  "kernelspec": {
   "display_name": "Python 2",
   "language": "python",
   "name": "python2"
  },
  "language_info": {
   "codemirror_mode": {
    "name": "ipython",
    "version": 2
   },
   "file_extension": ".py",
   "mimetype": "text/x-python",
   "name": "python",
   "nbconvert_exporter": "python",
   "pygments_lexer": "ipython2",
   "version": "2.7.9"
  }
 },
 "nbformat": 4,
 "nbformat_minor": 0
}
