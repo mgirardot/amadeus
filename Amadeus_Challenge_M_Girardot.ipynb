{
 "cells": [
  {
   "cell_type": "markdown",
   "metadata": {},
   "source": [
    "###Amadeus datasets\n",
    "bookings.csv\n",
    "searches.csv\n",
    "\n",
    "####First exercise: count the number of lines in Python for each file\n",
    "\n"
   ]
  },
  {
   "cell_type": "code",
   "execution_count": 1,
   "metadata": {
    "collapsed": false
   },
   "outputs": [
    {
     "name": "stdout",
     "output_type": "stream",
     "text": [
      "First exercice: Count the number of lines in Python for each files.\n",
      "\n",
      "[bookings.csv]:  10000011  lines.\n",
      "\n",
      "[searches.csv]:  20390199  lines.\n"
     ]
    }
   ],
   "source": [
    "import matplotlib.pyplot as plt\n",
    "import pandas as pd\n",
    "import numpy as np\n",
    "from GeoBases import GeoBase\n",
    "\n",
    "\n",
    "f = open('C:/Users/Michael/Desktop/Amadeus_dataset/bookings.csv')\n",
    "\n",
    "print \"First exercice: Count the number of lines in Python for each files.\"\n",
    "\n",
    "print \"\\n[bookings.csv]: \", len(f.readlines()), \" lines.\"\n",
    "\n",
    "f.close()\n",
    "f = open('C:/Users/Michael/Desktop/Amadeus_dataset/searches.csv')\n",
    "\n",
    "print \"\\n[searches.csv]: \", len(f.readlines()), \" lines.\"\n",
    "f.close()"
   ]
  },
  {
   "cell_type": "markdown",
   "metadata": {},
   "source": [
    "####Second exercise: top 10 arrival airports in the world in 2013 (using the bookings file)\n",
    "\n",
    "Arrival airport is the column arr_port. It is the IATA code for the airport\n",
    "To get the total number of passengers for an airport, you can sum the column pax, grouping by arr_port. Note that there is negative pax. That corresponds to cancelations. So to get the total number of passengers that have actually booked, you should sum including the negatives (that will remove the canceled bookings).\n",
    "Print the top 10 arrival airports in the standard output, including the number of passengers.\n",
    "\n",
    "\n"
   ]
  },
  {
   "cell_type": "markdown",
   "metadata": {},
   "source": [
    "#####1.Exploring the csv file\n"
   ]
  },
  {
   "cell_type": "code",
   "execution_count": 2,
   "metadata": {
    "collapsed": false
   },
   "outputs": [
    {
     "name": "stdout",
     "output_type": "stream",
     "text": [
      "act_date           ^source^pos_ctry^pos_iata^pos_oid  ^rloc          ^cre_date           ^duration^distance^dep_port^dep_city^dep_ctry^arr_port^arr_city^arr_ctry^lst_port^lst_city^lst_ctry^brd_port^brd_city^brd_ctry^off_port^off_city^off_ctry^mkt_port^mkt_city^mkt_ctry^intl^route          ^carrier^bkg_class^cab_class^brd_time           ^off_time           ^pax^year^month^oid      \n",
      "\n"
     ]
    }
   ],
   "source": [
    "f = open('C:/Users/Michael/Desktop/Amadeus_dataset/bookings.csv')\n",
    "h = f.readline()\n",
    "print h\n",
    "f.close()"
   ]
  },
  {
   "cell_type": "markdown",
   "metadata": {},
   "source": [
    "the separator of the csv file is '^'"
   ]
  },
  {
   "cell_type": "code",
   "execution_count": 4,
   "metadata": {
    "collapsed": false
   },
   "outputs": [
    {
     "name": "stdout",
     "output_type": "stream",
     "text": [
      "['act_date           ', 'source', 'pos_ctry', 'pos_iata', 'pos_oid  ', 'rloc          ', 'cre_date           ', 'duration', 'distance', 'dep_port', 'dep_city', 'dep_ctry', 'arr_port', 'arr_city', 'arr_ctry', 'lst_port', 'lst_city', 'lst_ctry', 'brd_port', 'brd_city', 'brd_ctry', 'off_port', 'off_city', 'off_ctry', 'mkt_port', 'mkt_city', 'mkt_ctry', 'intl', 'route          ', 'carrier', 'bkg_class', 'cab_class', 'brd_time           ', 'off_time           ', 'pax', 'year', 'month', 'oid      \\n'] \n",
      " number of columns:  38\n"
     ]
    }
   ],
   "source": [
    "header = str.split(h, '^')\n",
    "print header, \"\\n number of columns: \" , len(header)"
   ]
  },
  {
   "cell_type": "markdown",
   "metadata": {},
   "source": [
    "#####2.import the csv file into a DataFrame"
   ]
  },
  {
   "cell_type": "code",
   "execution_count": 5,
   "metadata": {
    "collapsed": false
   },
   "outputs": [
    {
     "name": "stdout",
     "output_type": "stream",
     "text": [
      "Number of rows in data: 10000010\n",
      "\n",
      "Number of columns in data: 38\n"
     ]
    },
    {
     "name": "stderr",
     "output_type": "stream",
     "text": [
      "C:\\Users\\Michael\\Anaconda\\lib\\site-packages\\pandas\\io\\parsers.py:1159: DtypeWarning: Columns (7,8,27) have mixed types. Specify dtype option on import or set low_memory=False.\n",
      "  data = self._reader.read(nrows)\n"
     ]
    },
    {
     "data": {
      "text/plain": [
       "count    10000009.000000\n",
       "mean            0.490880\n",
       "std             2.199173\n",
       "min           -90.000000\n",
       "25%            -1.000000\n",
       "50%             1.000000\n",
       "75%             1.000000\n",
       "max            99.000000\n",
       "Name: pax, dtype: float64"
      ]
     },
     "execution_count": 5,
     "metadata": {},
     "output_type": "execute_result"
    }
   ],
   "source": [
    "data = pd.read_csv('C:/Users/Michael/Desktop/Amadeus_dataset/bookings.csv', delimiter='^', header=0)\n",
    "\n",
    "print \"Number of rows in data: %i\" % data.shape[0]\n",
    "print \"\\nNumber of columns in data: %i\" % data.shape[1]\n",
    "\n",
    "data.head()\n",
    "\n",
    "data.pax.describe()"
   ]
  },
  {
   "cell_type": "markdown",
   "metadata": {},
   "source": [
    "count of pax is 10000009 instead of 10000010; one value is missing !"
   ]
  },
  {
   "cell_type": "code",
   "execution_count": 6,
   "metadata": {
    "collapsed": false
   },
   "outputs": [
    {
     "data": {
      "text/html": [
       "<div style=\"max-height:1000px;max-width:1500px;overflow:auto;\">\n",
       "<table border=\"1\" class=\"dataframe\">\n",
       "  <thead>\n",
       "    <tr style=\"text-align: right;\">\n",
       "      <th></th>\n",
       "      <th>act_date           </th>\n",
       "      <th>source</th>\n",
       "      <th>pos_ctry</th>\n",
       "      <th>pos_iata</th>\n",
       "      <th>pos_oid  </th>\n",
       "      <th>rloc          </th>\n",
       "      <th>cre_date           </th>\n",
       "      <th>duration</th>\n",
       "      <th>distance</th>\n",
       "      <th>dep_port</th>\n",
       "      <th>...</th>\n",
       "      <th>route          </th>\n",
       "      <th>carrier</th>\n",
       "      <th>bkg_class</th>\n",
       "      <th>cab_class</th>\n",
       "      <th>brd_time           </th>\n",
       "      <th>off_time           </th>\n",
       "      <th>pax</th>\n",
       "      <th>year</th>\n",
       "      <th>month</th>\n",
       "      <th>oid      </th>\n",
       "    </tr>\n",
       "  </thead>\n",
       "  <tbody>\n",
       "    <tr>\n",
       "      <th>5000007</th>\n",
       "      <td> 2013-03-25 00:00:00</td>\n",
       "      <td> 1V    JP      </td>\n",
       "      <td> NaN</td>\n",
       "      <td> a37584d1485cb35991e4ff1a2ba92262</td>\n",
       "      <td> 2013-03-25 00:00:00</td>\n",
       "      <td> 8371</td>\n",
       "      <td> 60</td>\n",
       "      <td> NRT     </td>\n",
       "      <td> TYO     </td>\n",
       "      <td> JP      </td>\n",
       "      <td>...</td>\n",
       "      <td> 2013-04-14 11:05:00</td>\n",
       "      <td> 2013-04-14 17:10:56</td>\n",
       "      <td> 2</td>\n",
       "      <td> 2013</td>\n",
       "      <td> 3</td>\n",
       "      <td> NULL     </td>\n",
       "      <td>NaN</td>\n",
       "      <td>NaN</td>\n",
       "      <td>NaN</td>\n",
       "      <td> NaN</td>\n",
       "    </tr>\n",
       "  </tbody>\n",
       "</table>\n",
       "<p>1 rows × 38 columns</p>\n",
       "</div>"
      ],
      "text/plain": [
       "         act_date                     source pos_ctry  \\\n",
       "5000007  2013-03-25 00:00:00  1V    JP            NaN   \n",
       "\n",
       "                                 pos_iata            pos_oid   rloc            \\\n",
       "5000007  a37584d1485cb35991e4ff1a2ba92262  2013-03-25 00:00:00           8371   \n",
       "\n",
       "        cre_date             duration  distance  dep_port    ...     \\\n",
       "5000007                  60  NRT       TYO       JP          ...      \n",
       "\n",
       "             route                        carrier bkg_class cab_class  \\\n",
       "5000007  2013-04-14 11:05:00  2013-04-14 17:10:56         2      2013   \n",
       "\n",
       "        brd_time            off_time            pax year month oid        \n",
       "5000007                   3           NULL      NaN  NaN   NaN       NaN  \n",
       "\n",
       "[1 rows x 38 columns]"
      ]
     },
     "execution_count": 6,
     "metadata": {},
     "output_type": "execute_result"
    }
   ],
   "source": [
    "data[data.pax.isnull()]"
   ]
  },
  {
   "cell_type": "markdown",
   "metadata": {},
   "source": [
    "the row 5000007 seems problematic"
   ]
  },
  {
   "cell_type": "markdown",
   "metadata": {},
   "source": [
    "#####3.Fixing the malformed row"
   ]
  },
  {
   "cell_type": "code",
   "execution_count": 7,
   "metadata": {
    "collapsed": false
   },
   "outputs": [
    {
     "data": {
      "text/html": [
       "<div style=\"max-height:1000px;max-width:1500px;overflow:auto;\">\n",
       "<table border=\"1\" class=\"dataframe\">\n",
       "  <thead>\n",
       "    <tr style=\"text-align: right;\">\n",
       "      <th></th>\n",
       "      <th>act_date           </th>\n",
       "      <th>source</th>\n",
       "      <th>pos_ctry</th>\n",
       "      <th>pos_iata</th>\n",
       "      <th>pos_oid  </th>\n",
       "      <th>rloc          </th>\n",
       "      <th>cre_date           </th>\n",
       "      <th>duration</th>\n",
       "      <th>distance</th>\n",
       "      <th>dep_port</th>\n",
       "      <th>...</th>\n",
       "      <th>route          </th>\n",
       "      <th>carrier</th>\n",
       "      <th>bkg_class</th>\n",
       "      <th>cab_class</th>\n",
       "      <th>brd_time           </th>\n",
       "      <th>off_time           </th>\n",
       "      <th>pax</th>\n",
       "      <th>year</th>\n",
       "      <th>month</th>\n",
       "      <th>oid      </th>\n",
       "    </tr>\n",
       "  </thead>\n",
       "  <tbody>\n",
       "    <tr>\n",
       "      <th>5000006</th>\n",
       "      <td> 2013-03-20 00:00:00</td>\n",
       "      <td>         1V    </td>\n",
       "      <td> US      </td>\n",
       "      <td> 0283592e45e392871f7e14b1e22a9aaf</td>\n",
       "      <td> 2d0f8e7e1bb792625d2f34f221bc38f1</td>\n",
       "      <td> d54708298686de200f8270e7c637af5e</td>\n",
       "      <td> 2013-03-20 00:00:00</td>\n",
       "      <td>     5923</td>\n",
       "      <td>        0</td>\n",
       "      <td> DEN     </td>\n",
       "      <td>...</td>\n",
       "      <td>     LGADEN         </td>\n",
       "      <td>                  FK</td>\n",
       "      <td> K        </td>\n",
       "      <td> Y        </td>\n",
       "      <td> 2013-04-11 11:15:00</td>\n",
       "      <td> 2013-04-11 13:06:24</td>\n",
       "      <td>  1</td>\n",
       "      <td> 2013</td>\n",
       "      <td>  3</td>\n",
       "      <td> NULL     </td>\n",
       "    </tr>\n",
       "    <tr>\n",
       "      <th>5000007</th>\n",
       "      <td> 2013-03-25 00:00:00</td>\n",
       "      <td> 1V    JP      </td>\n",
       "      <td>      NaN</td>\n",
       "      <td> a37584d1485cb35991e4ff1a2ba92262</td>\n",
       "      <td>              2013-03-25 00:00:00</td>\n",
       "      <td>                             8371</td>\n",
       "      <td>                  60</td>\n",
       "      <td> NRT     </td>\n",
       "      <td> TYO     </td>\n",
       "      <td> JP      </td>\n",
       "      <td>...</td>\n",
       "      <td> 2013-04-14 11:05:00</td>\n",
       "      <td> 2013-04-14 17:10:56</td>\n",
       "      <td>         2</td>\n",
       "      <td>      2013</td>\n",
       "      <td>                   3</td>\n",
       "      <td>           NULL     </td>\n",
       "      <td>NaN</td>\n",
       "      <td>  NaN</td>\n",
       "      <td>NaN</td>\n",
       "      <td>       NaN</td>\n",
       "    </tr>\n",
       "  </tbody>\n",
       "</table>\n",
       "<p>2 rows × 38 columns</p>\n",
       "</div>"
      ],
      "text/plain": [
       "         act_date                     source  pos_ctry  \\\n",
       "5000006  2013-03-20 00:00:00          1V      US         \n",
       "5000007  2013-03-25 00:00:00  1V    JP             NaN   \n",
       "\n",
       "                                 pos_iata                         pos_oid    \\\n",
       "5000006  0283592e45e392871f7e14b1e22a9aaf  2d0f8e7e1bb792625d2f34f221bc38f1   \n",
       "5000007  a37584d1485cb35991e4ff1a2ba92262               2013-03-25 00:00:00   \n",
       "\n",
       "                           rloc            cre_date             duration  \\\n",
       "5000006  d54708298686de200f8270e7c637af5e  2013-03-20 00:00:00      5923   \n",
       "5000007                              8371                   60  NRT        \n",
       "\n",
       "         distance  dep_port    ...          route            \\\n",
       "5000006         0  DEN         ...          LGADEN            \n",
       "5000007  TYO       JP          ...      2013-04-14 11:05:00   \n",
       "\n",
       "                     carrier  bkg_class  cab_class  brd_time             \\\n",
       "5000006                   FK  K          Y          2013-04-11 11:15:00   \n",
       "5000007  2013-04-14 17:10:56          2       2013                    3   \n",
       "\n",
       "         off_time            pax  year month  oid        \n",
       "5000006  2013-04-11 13:06:24   1  2013     3  NULL       \n",
       "5000007            NULL      NaN   NaN   NaN        NaN  \n",
       "\n",
       "[2 rows x 38 columns]"
      ]
     },
     "execution_count": 7,
     "metadata": {},
     "output_type": "execute_result"
    }
   ],
   "source": [
    "data[5000006:5000008]"
   ]
  },
  {
   "cell_type": "markdown",
   "metadata": {},
   "source": [
    "The source contains both the source and the pos_ctry data.And rloc, pos_iod, bkg_class and cab_class seems to be missing.\n",
    "I have collected the malformed row using:\n",
    "head -n 5000009 bookings.csv | tail\n",
    " then edited the missing separator in gedit\n",
    " the resulting row and header is saved in malformedRow.csv"
   ]
  },
  {
   "cell_type": "code",
   "execution_count": 8,
   "metadata": {
    "collapsed": true
   },
   "outputs": [],
   "source": [
    "malformedRow = pd.read_csv('C:/Users/Michael/Desktop/Amadeus_dataset/malformedRow.csv', delimiter='^', header=0)\n",
    "data.drop(data.index[[5000007]], inplace=True)\n",
    "data = data.append(malformedRow, ignore_index=True)\n"
   ]
  },
  {
   "cell_type": "markdown",
   "metadata": {},
   "source": [
    "Then the pax column seems complete"
   ]
  },
  {
   "cell_type": "code",
   "execution_count": 9,
   "metadata": {
    "collapsed": false
   },
   "outputs": [
    {
     "data": {
      "text/plain": [
       "count    10000010.000000\n",
       "mean            0.490881\n",
       "std             2.199173\n",
       "min           -90.000000\n",
       "25%            -1.000000\n",
       "50%             1.000000\n",
       "75%             1.000000\n",
       "max            99.000000\n",
       "Name: pax, dtype: float64"
      ]
     },
     "execution_count": 9,
     "metadata": {},
     "output_type": "execute_result"
    }
   ],
   "source": [
    "data.pax.describe()"
   ]
  },
  {
   "cell_type": "markdown",
   "metadata": {},
   "source": [
    "#####4.Computing the number of passengers per arrival airport"
   ]
  },
  {
   "cell_type": "code",
   "execution_count": 12,
   "metadata": {
    "collapsed": false
   },
   "outputs": [
    {
     "name": "stdout",
     "output_type": "stream",
     "text": [
      "arr_port\n",
      "LHR         88809\n",
      "MCO         70930\n",
      "LAX         70530\n",
      "LAS         69630\n",
      "JFK         66270\n",
      "CDG         64490\n",
      "BKK         59460\n",
      "MIA         58150\n",
      "SFO         58000\n",
      "DXB         55590\n",
      "Name: pax, dtype: float64\n"
     ]
    }
   ],
   "source": [
    "sum_pax_by_arr_port= data.groupby('arr_port').pax.sum()\n",
    "\n",
    "sum_pax_by_arr_port_ordered = sum_pax_by_arr_port.order(ascending=False)\n",
    "top10=sum_pax_by_arr_port_ordered.head(n=10)\n",
    "print(top10)"
   ]
  },
  {
   "cell_type": "markdown",
   "metadata": {},
   "source": [
    "#####Bonus point: Get the name of the city or airport corresponding to that airport (programatically, we suggest to have a look at GeoBases in Github)"
   ]
  },
  {
   "cell_type": "markdown",
   "metadata": {},
   "source": [
    "First, I convert the top10 list into a dataframe to store the names of the airports"
   ]
  },
  {
   "cell_type": "code",
   "execution_count": 13,
   "metadata": {
    "collapsed": false
   },
   "outputs": [
    {
     "name": "stdout",
     "output_type": "stream",
     "text": [
      "            pax  arr_port\n",
      "arr_port                 \n",
      "LHR       88809  LHR     \n",
      "MCO       70930  MCO     \n",
      "LAX       70530  LAX     \n",
      "LAS       69630  LAS     \n",
      "JFK       66270  JFK     \n",
      "CDG       64490  CDG     \n",
      "BKK       59460  BKK     \n",
      "MIA       58150  MIA     \n",
      "SFO       58000  SFO     \n",
      "DXB       55590  DXB     \n"
     ]
    }
   ],
   "source": [
    "df = pd.DataFrame(top10)\n",
    "df['arr_port']=df.index\n",
    "print df"
   ]
  },
  {
   "cell_type": "markdown",
   "metadata": {},
   "source": [
    "Then get the names from GeoBases"
   ]
  },
  {
   "cell_type": "code",
   "execution_count": 14,
   "metadata": {
    "collapsed": false
   },
   "outputs": [
    {
     "name": "stdout",
     "output_type": "stream",
     "text": [
      "Import successful from C:\\Users\\Michael\\AppData\\Roaming\\Python\\Python27\\site-packages\\geobases-5.0.16-py2.7.egg\\GeoBases\\DataSources\\Airports/GeoNames/airports_geonames_only_clean.csv\n",
      "Available fields for things: ['__key__', '__dup__', '__par__', '__lno__', 'iata_code', 'name', 'city_code', 'country_code', 'country_name', 'lat', 'lng', '__gar__']\n",
      "(Join) loaded external base \"countries\" [with ('code',)] for join on ('country_code',)\n",
      "Built index for fields ('code',)\n",
      "(Join) loaded external base \"ori_por\" [with ('iata_code',)] for join on ('city_code',)\n",
      "/!\\ Index on ('iata_code',) already built, exiting...\n",
      "Top 10 arrival airports :\n",
      "            pax  arr_port                         airport_names\n",
      "arr_port                                                       \n",
      "LHR       88809  LHR                    London Heathrow Airport\n",
      "MCO       70930  MCO              Orlando International Airport\n",
      "LAX       70530  LAX          Los Angeles International Airport\n",
      "LAS       69630  LAS             McCarran International Airport\n",
      "JFK       66270  JFK       John F Kennedy International Airport\n",
      "CDG       64490  CDG                  Paris - Charles-de-Gaulle\n",
      "BKK       59460  BKK                               Suvarnabhumi\n",
      "MIA       58150  MIA                Miami International Airport\n",
      "SFO       58000  SFO        San Francisco International Airport\n",
      "DXB       55590  DXB                Dubai International Airport\n"
     ]
    }
   ],
   "source": [
    "geo_o = GeoBase(data='airports')\n",
    "\n",
    "airport_names = [geo_o.get(row.strip(), 'name') for row in df.arr_port]\n",
    "df['airport_names']=airport_names\n",
    "\n",
    "print \"Top 10 arrival airports :\\n\", df\n"
   ]
  },
  {
   "cell_type": "code",
   "execution_count": null,
   "metadata": {
    "collapsed": true
   },
   "outputs": [],
   "source": []
  }
 ],
 "metadata": {
  "kernelspec": {
   "display_name": "Python 2",
   "language": "python",
   "name": "python2"
  },
  "language_info": {
   "codemirror_mode": {
    "name": "ipython",
    "version": 2
   },
   "file_extension": ".py",
   "mimetype": "text/x-python",
   "name": "python",
   "nbconvert_exporter": "python",
   "pygments_lexer": "ipython2",
   "version": "2.7.9"
  }
 },
 "nbformat": 4,
 "nbformat_minor": 0
}
